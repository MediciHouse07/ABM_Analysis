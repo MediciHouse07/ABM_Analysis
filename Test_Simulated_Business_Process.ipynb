{
  "nbformat": 4,
  "nbformat_minor": 0,
  "metadata": {
    "colab": {
      "provenance": [],
      "authorship_tag": "ABX9TyNI3ttz5WHbe9xo/0vKOvEx",
      "include_colab_link": true
    },
    "kernelspec": {
      "name": "python3",
      "display_name": "Python 3"
    },
    "language_info": {
      "name": "python"
    }
  },
  "cells": [
    {
      "cell_type": "markdown",
      "metadata": {
        "id": "view-in-github",
        "colab_type": "text"
      },
      "source": [
        "<a href=\"https://colab.research.google.com/github/MediciHouse07/ABM_Analysis/blob/main/Test_Simulated_Business_Process.ipynb\" target=\"_parent\"><img src=\"https://colab.research.google.com/assets/colab-badge.svg\" alt=\"Open In Colab\"/></a>"
      ]
    },
    {
      "cell_type": "markdown",
      "source": [
        "1. Define the Business Processes:"
      ],
      "metadata": {
        "id": "2q3FH5_lxA0N"
      }
    },
    {
      "source": [
        "import random\n",
        "\n",
        "def process_a(input_data):\n",
        "  \"\"\"Simulates business process A.\"\"\"\n",
        "  # Modify input_data based on the process rules\n",
        "  # Example: Adding a random value between 0 and 10.\n",
        "  output = input_data + random.uniform(0, 10)\n",
        "  return output\n",
        "\n",
        "def process_b(input_data):\n",
        "  \"\"\"Simulates business process B.\"\"\"\n",
        "  # Modify input_data based on the process rules\n",
        "  # Example: Multiply input_data by a random value between 0 and 2.\n",
        "  output = input_data * random.uniform(0, 2)\n",
        "  return output"
      ],
      "cell_type": "code",
      "metadata": {
        "id": "9htpFSnEwsvv"
      },
      "execution_count": null,
      "outputs": []
    },
    {
      "cell_type": "markdown",
      "source": [
        "2. Generate Input Data:"
      ],
      "metadata": {
        "id": "dWbpA0q6xDBP"
      }
    },
    {
      "source": [
        "import numpy as np\n",
        "\n",
        "# Example: Generate 100 random data points between 0 and 100.\n",
        "input_data = np.random.rand(100) * 100"
      ],
      "cell_type": "code",
      "metadata": {
        "id": "rHUENbe6wuFD"
      },
      "execution_count": null,
      "outputs": []
    },
    {
      "source": [
        "results_a = [process_a(data) for data in input_data]\n",
        "results_b = [process_b(data) for data in input_data]"
      ],
      "cell_type": "code",
      "metadata": {
        "id": "7pi-vcQmwulb"
      },
      "execution_count": null,
      "outputs": []
    },
    {
      "source": [
        "import matplotlib.pyplot as plt\n",
        "\n",
        "plt.hist(results_a, alpha=0.5, label='Process A')\n",
        "plt.hist(results_b, alpha=0.5, label='Process B')\n",
        "plt.legend(loc='upper right')\n",
        "plt.xlabel('Outcome')\n",
        "plt.ylabel('Frequency')\n",
        "plt.title('Comparison of Business Process Outcomes')\n",
        "\n",
        "plt.show()"
      ],
      "cell_type": "code",
      "metadata": {
        "colab": {
          "base_uri": "https://localhost:8080/",
          "height": 472
        },
        "id": "ZIJJ6L4UwvAv",
        "outputId": "0757c676-dbe9-4c00-d904-ac24c2ace9c6"
      },
      "execution_count": null,
      "outputs": [
        {
          "output_type": "display_data",
          "data": {
            "text/plain": [
              "<Figure size 640x480 with 1 Axes>"
            ],
            "image/png": "[encoded data removed]"
          },
          "metadata": {}
        }
      ]
    },
    {
      "source": [
        "# !pip install matplotlib"
      ],
      "cell_type": "code",
      "metadata": {
        "id": "cJOXZLftwxAz"
      },
      "execution_count": null,
      "outputs": []
    },
    {
      "cell_type": "code",
      "source": [],
      "metadata": {
        "id": "Ix9R3TEN0FXY"
      },
      "execution_count": null,
      "outputs": []
    },
    {
      "source": [
        "import random\n",
        "\n",
        "def vcg_bilateral_trade(buyer_valuation, seller_valuation):\n",
        "  \"\"\"Simulates bilateral trade with the VCG mechanism.\n",
        "\n",
        "  Args:\n",
        "    buyer_valuation: The buyer's valuation for the item.\n",
        "    seller_valuation: The seller's valuation for the item.\n",
        "\n",
        "  Returns:\n",
        "    A tuple containing:\n",
        "      - True if trade occurs, False otherwise.\n",
        "      - The price paid by the buyer (if trade occurs).\n",
        "      - The buyer's utility.\n",
        "      - The seller's utility.\n",
        "  \"\"\"\n",
        "\n",
        "  # Determine if trade occurs\n",
        "  if buyer_valuation > seller_valuation:\n",
        "    trade_occurs = True\n",
        "  else:\n",
        "    trade_occurs = False\n",
        "\n",
        "  # Calculate price and utilities if trade occurs\n",
        "  if trade_occurs:\n",
        "    # VCG price: the externality imposed on the other party\n",
        "    price = seller_valuation\n",
        "\n",
        "    # Buyer's utility: valuation minus price\n",
        "    buyer_utility = buyer_valuation - price\n",
        "\n",
        "    # Seller's utility: price minus valuation\n",
        "    seller_utility = price - seller_valuation\n",
        "  else:\n",
        "    price = 0\n",
        "    buyer_utility = 0\n",
        "    seller_utility = 0\n",
        "\n",
        "  return trade_occurs, price, buyer_utility, seller_utility\n",
        "\n",
        "# Example usage\n",
        "buyer_valuation = random.randint(1, 10)\n",
        "seller_valuation = random.randint(1, 10)\n",
        "\n",
        "trade_occurs, price, buyer_utility, seller_utility = vcg_bilateral_trade(buyer_valuation, seller_valuation)\n",
        "\n",
        "print(f\"Buyer valuation: {buyer_valuation}\")\n",
        "print(f\"Seller valuation: {seller_valuation}\")\n",
        "print(f\"Trade occurs: {trade_occurs}\")\n",
        "if trade_occurs:\n",
        "  print(f\"Price: {price}\")\n",
        "  print(f\"Buyer utility: {buyer_utility}\")\n",
        "  print(f\"Seller utility: {seller_utility}\")"
      ],
      "cell_type": "code",
      "metadata": {
        "colab": {
          "base_uri": "https://localhost:8080/"
        },
        "id": "_QDtmYH_0wlA",
        "outputId": "5c91178b-14e1-499d-e56d-3d43c7a44b45"
      },
      "execution_count": null,
      "outputs": [
        {
          "output_type": "stream",
          "name": "stdout",
          "text": [
            "Buyer valuation: 10\n",
            "Seller valuation: 5\n",
            "Trade occurs: True\n",
            "Price: 5\n",
            "Buyer utility: 5\n",
            "Seller utility: 0\n"
          ]
        }
      ]
    },
    {
      "cell_type": "code",
      "source": [
        "import random\n",
        "\n",
        "def vcg_bilateral_trade(buyer_valuation, seller_valuation):\n",
        "  \"\"\"Simulates bilateral trade with the VCG mechanism.\n",
        "\n",
        "  Args:\n",
        "    buyer_valuation: The buyer's valuation for the item.\n",
        "    seller_valuation: The seller's valuation for the item.\n",
        "\n",
        "  Returns:\n",
        "    A tuple containing:\n",
        "      - True if trade occurs, False otherwise.\n",
        "      - The price paid by the buyer (if trade occurs).\n",
        "      - The buyer's utility.\n",
        "      - The seller's utility.\n",
        "  \"\"\"\n",
        "\n",
        "  # Determine if trade occurs\n",
        "  if buyer_valuation > seller_valuation:\n",
        "    trade_occurs = True\n",
        "  else:\n",
        "    trade_occurs = False\n",
        "\n",
        "  # Calculate price and utilities if trade occurs\n",
        "  if trade_occurs:\n",
        "    # VCG price: the externality imposed on the other party\n",
        "    price = seller_valuation\n",
        "\n",
        "    # Buyer's utility: valuation minus price\n",
        "    buyer_utility = buyer_valuation - price\n",
        "\n",
        "    # Seller's utility: price minus valuation\n",
        "    seller_utility = price - seller_valuation\n",
        "  else:\n",
        "    price = 0\n",
        "    buyer_utility = 0\n",
        "    seller_utility = 0\n",
        "\n",
        "  return trade_occurs, price, buyer_utility, seller_utility\n",
        "\n",
        "# Example usage\n",
        "buyer_valuation = random.randint(1, 10)\n",
        "seller_valuation = random.randint(1, 10)\n",
        "\n",
        "trade_occurs, price, buyer_utility, seller_utility = vcg_bilateral_trade(buyer_valuation, seller_valuation)\n",
        "\n",
        "print(f\"Buyer valuation: {buyer_valuation}\")\n",
        "print(f\"Seller valuation: {seller_valuation}\")\n",
        "print(f\"Trade occurs: {trade_occurs}\")\n",
        "if trade_occurs:\n",
        "  print(f\"Price: {price}\")\n",
        "  print(f\"Buyer utility: {buyer_utility}\")\n",
        "  print(f\"Seller utility: {seller_utility}\")"
      ],
      "metadata": {
        "colab": {
          "base_uri": "https://localhost:8080/"
        },
        "id": "zv1-ZcB12nZB",
        "outputId": "2be3843d-8436-4cdc-bc5c-8c2f979f4248"
      },
      "execution_count": null,
      "outputs": [
        {
          "output_type": "stream",
          "name": "stdout",
          "text": [
            "Buyer valuation: 5\n",
            "Seller valuation: 9\n",
            "Trade occurs: False\n"
          ]
        }
      ]
    },
    {
      "source": [
        "import random\n",
        "\n",
        "def vcg_bilateral_trade(buyer_valuation, seller_valuation, d=1):\n",
        "  \"\"\"Simulates bilateral trade with the VCG mechanism.\n",
        "\n",
        "  Args:\n",
        "    buyer_valuation: The buyer's valuation for the item (theta_b).\n",
        "    seller_valuation: The seller's inherent cost (theta_s).\n",
        "    d: A scaling factor for the externality.\n",
        "\n",
        "  Returns:\n",
        "    A tuple containing:\n",
        "      - True if trade occurs, False otherwise.\n",
        "      - The price paid by the buyer (if trade occurs).\n",
        "      - The buyer's utility.\n",
        "      - The seller's utility.\n",
        "  \"\"\"\n",
        "\n",
        "  # Seller's valuation with externality\n",
        "  seller_true_valuation = -d * seller_valuation\n",
        "\n",
        "  # Determine if trade occurs\n",
        "  if buyer_valuation > -seller_true_valuation:  # Trade if buyer's valuation is higher than seller's cost\n",
        "    trade_occurs = True\n",
        "  else:\n",
        "    trade_occurs = False\n",
        "\n",
        "  # Calculate price and utilities if trade occurs\n",
        "  if trade_occurs:\n",
        "    # VCG price: externality imposed on the buyer\n",
        "    price = -seller_true_valuation  # Price paid by the buyer\n",
        "\n",
        "    # Buyer's utility: valuation minus price\n",
        "    buyer_utility = buyer_valuation - price\n",
        "\n",
        "    # Seller's transfer: Externality of the buyer minus the buyer's valuation\n",
        "    seller_transfer = d * buyer_valuation - buyer_valuation\n",
        "\n",
        "    # Seller's utility: transfer plus inherent valuation\n",
        "    seller_utility = seller_transfer + seller_true_valuation\n",
        "  else:\n",
        "    price = 0\n",
        "    buyer_utility = 0\n",
        "    seller_utility = seller_true_valuation # Seller keeps the item, so their utility is their valuation\n",
        "\n",
        "  return trade_occurs, price, buyer_utility, seller_utility\n",
        "\n",
        "# Example usage\n",
        "buyer_valuation = 8 # random.randint(1, 10)\n",
        "seller_valuation = 8 # random.randint(1, 10)\n",
        "\n",
        "trade_occurs, price, buyer_utility, seller_utility = vcg_bilateral_trade(buyer_valuation, seller_valuation)\n",
        "\n",
        "print(f\"Buyer valuation: {buyer_valuation}\")\n",
        "print(f\"Seller valuation (inherent cost): {seller_valuation}\")\n",
        "print(f\"Trade occurs: {trade_occurs}\")\n",
        "if trade_occurs:\n",
        "  print(f\"Price: {price}\")\n",
        "  print(f\"Buyer utility: {buyer_utility}\")\n",
        "  print(f\"Seller utility: {seller_utility}\")\n",
        "else:\n",
        "  print(f\"Price: {price}\")\n",
        "  print(f\"Buyer utility: {buyer_utility}\")\n",
        "  print(f\"Seller utility: {seller_utility}\")\n",
        "  print(f\"Seller utility (keeps the item): {seller_utility}\")"
      ],
      "cell_type": "code",
      "metadata": {
        "colab": {
          "base_uri": "https://localhost:8080/"
        },
        "id": "wazgpWdr3q6D",
        "outputId": "99cf08dc-2b29-4559-a51d-6e03a48cff18"
      },
      "execution_count": null,
      "outputs": [
        {
          "output_type": "stream",
          "name": "stdout",
          "text": [
            "Buyer valuation: 8\n",
            "Seller valuation (inherent cost): 8\n",
            "Trade occurs: False\n",
            "Price: 0\n",
            "Buyer utility: 0\n",
            "Seller utility: -8\n",
            "Seller utility (keeps the item): -8\n"
          ]
        }
      ]
    },
    {
      "cell_type": "code",
      "source": [
        "import random\n",
        "\n",
        "def vcg_bilateral_trade(buyer_valuation, seller_valuation, d=1):\n",
        "  \"\"\"Simulates bilateral trade with the VCG mechanism.\n",
        "\n",
        "  Args:\n",
        "    buyer_valuation: The buyer's valuation for the item (theta_b).\n",
        "    seller_valuation: The seller's inherent cost (theta_s).\n",
        "    d: A scaling factor for the externality.\n",
        "\n",
        "  Returns:\n",
        "    A tuple containing:\n",
        "      - True if trade occurs, False otherwise.\n",
        "      - The price paid by the buyer (if trade occurs).\n",
        "      - The buyer's utility.\n",
        "      - The seller's utility.\n",
        "  \"\"\"\n",
        "\n",
        "  # Seller's valuation with externality\n",
        "  seller_true_valuation = -d * seller_valuation\n",
        "\n",
        "  # Determine if trade occurs\n",
        "  if buyer_valuation >= -seller_true_valuation:  # Trade if buyer's valuation is higher than seller's cost\n",
        "    trade_occurs = True\n",
        "  else:\n",
        "    trade_occurs = False\n",
        "\n",
        "  # Calculate price and utilities if trade occurs\n",
        "  if trade_occurs:\n",
        "    # VCG price: externality imposed on the buyer\n",
        "    price = -seller_true_valuation  # Price paid by the buyer\n",
        "\n",
        "    # Buyer's utility: valuation minus price\n",
        "    buyer_utility = buyer_valuation - price\n",
        "\n",
        "    # Seller's transfer: Externality of the buyer minus the buyer's valuation\n",
        "    seller_transfer = d * buyer_valuation - buyer_valuation\n",
        "\n",
        "    # Seller's utility: transfer plus inherent valuation\n",
        "    seller_utility = seller_transfer + seller_true_valuation\n",
        "  else:\n",
        "    price = 0\n",
        "    buyer_utility = 0\n",
        "    seller_utility = seller_true_valuation # Seller keeps the item, so their utility is their valuation\n",
        "\n",
        "  return trade_occurs, price, buyer_utility, seller_utility\n",
        "\n",
        "# Example usage\n",
        "buyer_valuation = 8 # random.randint(1, 10)\n",
        "seller_valuation = 8 # random.randint(1, 10)\n",
        "\n",
        "trade_occurs, price, buyer_utility, seller_utility = vcg_bilateral_trade(buyer_valuation, seller_valuation)\n",
        "\n",
        "print(f\"Buyer valuation: {buyer_valuation}\")\n",
        "print(f\"Seller valuation (inherent cost): {seller_valuation}\")\n",
        "print(f\"Trade occurs: {trade_occurs}\")\n",
        "if trade_occurs:\n",
        "  print(f\"Price: {price}\")\n",
        "  print(f\"Buyer utility: {buyer_utility}\")\n",
        "  print(f\"Seller utility: {seller_utility}\")\n",
        "else:\n",
        "  print(f\"Price: {price}\")\n",
        "  print(f\"Buyer utility: {buyer_utility}\")\n",
        "  print(f\"Seller utility: {seller_utility}\")\n",
        "  print(f\"Seller utility (keeps the item): {seller_utility}\")"
      ],
      "metadata": {
        "colab": {
          "base_uri": "https://localhost:8080/"
        },
        "id": "80yhS4eS3xg9",
        "outputId": "84228ae4-329d-47d6-a08a-073a9ab20332"
      },
      "execution_count": null,
      "outputs": [
        {
          "output_type": "stream",
          "name": "stdout",
          "text": [
            "Buyer valuation: 8\n",
            "Seller valuation (inherent cost): 8\n",
            "Trade occurs: True\n",
            "Price: 8\n",
            "Buyer utility: 0\n",
            "Seller utility: -8\n"
          ]
        }
      ]
    },
    {
      "source": [
        "import random\n",
        "\n",
        "def vcg_bilateral_trade(buyer_private_valuation, seller_private_valuation,\n",
        "                        buyer_declared_valuation, seller_declared_valuation, d=1):\n",
        "    \"\"\"Simulates bilateral trade with the VCG mechanism.\n",
        "\n",
        "    Args:\n",
        "        buyer_private_valuation: The buyer's true valuation.\n",
        "        seller_private_valuation: The seller's true cost.\n",
        "        buyer_declared_valuation: The valuation the buyer declares.\n",
        "        seller_declared_valuation: The cost the seller declares.\n",
        "        d: Externality scaling factor.\n",
        "\n",
        "    Returns:\n",
        "        Tuple: (trade_occurs, price, buyer_utility, seller_utility)\n",
        "    \"\"\"\n",
        "\n",
        "    # Seller's declared valuation with externality\n",
        "    seller_declared_true_valuation = -d * seller_declared_valuation\n",
        "\n",
        "    # Trade decision based on declared valuations\n",
        "    if buyer_declared_valuation >= -seller_declared_true_valuation:\n",
        "        trade_occurs = True\n",
        "    else:\n",
        "        trade_occurs = False\n",
        "\n",
        "    if trade_occurs:\n",
        "        # VCG price based on declared valuations\n",
        "        price = -seller_declared_true_valuation\n",
        "\n",
        "        # Buyer's utility (using private valuation)\n",
        "        buyer_utility = buyer_private_valuation - price\n",
        "\n",
        "        # Seller's transfer (using declared valuations)\n",
        "        seller_transfer = d * buyer_declared_valuation - buyer_declared_valuation\n",
        "\n",
        "        # Seller's utility (using private valuation)\n",
        "        seller_utility = seller_transfer + (-d * seller_private_valuation)\n",
        "    else:\n",
        "        price = 0\n",
        "        buyer_utility = 0\n",
        "        seller_utility = -d * seller_private_valuation\n",
        "\n",
        "    return trade_occurs, price, buyer_utility, seller_utility\n",
        "\n",
        "# Example usage with declared and private valuations\n",
        "buyer_private_valuation = 8\n",
        "seller_private_valuation = 5\n",
        "buyer_declared_valuation = 8  # Buyer declares truthfully\n",
        "seller_declared_valuation = 6 # Seller declares higher cost\n",
        "\n",
        "trade_occurs, price, buyer_utility, seller_utility = vcg_bilateral_trade(\n",
        "    buyer_private_valuation, seller_private_valuation,\n",
        "    buyer_declared_valuation, seller_declared_valuation\n",
        ")\n",
        "\n",
        "print(f\"Buyer private valuation: {buyer_private_valuation}\")\n",
        "print(f\"Seller private valuation (inherent cost): {seller_private_valuation}\")\n",
        "print(f\"Buyer declared valuation: {buyer_declared_valuation}\")\n",
        "print(f\"Seller declared valuation (inherent cost): {seller_declared_valuation}\")\n",
        "print(f\"Trade occurs: {trade_occurs}\")\n",
        "if trade_occurs:\n",
        "  print(f\"Price: {price}\")\n",
        "  print(f\"Buyer utility: {buyer_utility}\")\n",
        "  print(f\"Seller utility: {seller_utility}\")\n",
        "else:\n",
        "  print(f\"Price: {price}\")\n",
        "  print(f\"Buyer utility: {buyer_utility}\")\n",
        "  print(f\"Seller utility: {seller_utility}\")\n",
        "  print(f\"Seller utility (keeps the item): {seller_utility}\")"
      ],
      "cell_type": "code",
      "metadata": {
        "colab": {
          "base_uri": "https://localhost:8080/"
        },
        "id": "m9L9sThyelSK",
        "outputId": "6853d799-bccb-418d-92eb-663f29bd2036"
      },
      "execution_count": null,
      "outputs": [
        {
          "output_type": "stream",
          "name": "stdout",
          "text": [
            "Buyer private valuation: 8\n",
            "Seller private valuation (inherent cost): 5\n",
            "Buyer declared valuation: 8\n",
            "Seller declared valuation (inherent cost): 6\n",
            "Trade occurs: True\n",
            "Price: 6\n",
            "Buyer utility: 2\n",
            "Seller utility: -5\n"
          ]
        }
      ]
    }
  ]
}