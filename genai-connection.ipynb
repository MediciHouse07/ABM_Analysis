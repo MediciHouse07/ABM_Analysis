{
 "cells": [
  {
   "cell_type": "markdown",
   "id": "6a207bd0",
   "metadata": {
    "papermill": {
     "duration": 0.005761,
     "end_time": "2025-02-13T12:49:35.146090",
     "exception": false,
     "start_time": "2025-02-13T12:49:35.140329",
     "status": "completed"
    },
    "tags": []
   },
   "source": [
    "# I. Preface\n",
    "\n",
    "As a practitioner and enthusiast in simulation, I have always been fascinated by modeling business, economics, politics, and more through programs. In this notebook, I will explore the potential outcomes of integrating Mechanism Design theories with Generative AI by selectively revealing information to agents and observing their reactions.\n",
    "\n",
    "Through repeated experiments, this approach achieves three key goals:\n",
    "\n",
    "- Gaining a fresh perspective on GenAI models.\n",
    "- Understanding how AI agents respond to economic theory-driven rules.\n",
    "- Most importantly—finding enjoyment in the process (and by 'you,' I really mean 'I').\n",
    "\n",
    "This is the first step in my exploration, and I’m making it public to invite discussion. If you share a similar interest, feel free to comment and exchange ideas.\n",
    "In this notebook, we will simulate a bilateral trade with two roles: buyer and seller. Each participant has a private valuation of the good. They must decide on their declared valuation. If the buyer's declared valuation is greater than the seller's, a trade occurs; otherwise, no deal is made.\n",
    "The game follows the VCG (Vickrey-Clarke-Groves) mechanism, which determines the corresponding calculations, such as the transfer payments for the buyer and seller.\n",
    "\n",
    ">Mechanism design (sometimes implementation theory or institution design)[1] is a branch of economics and game theory. It studies how to construct rules—called mechanisms or institutions—that produce good outcomes according to some predefined metric, even when the designer does not know the players' true preferences or what information they have. Mechanism design thus focuses on the study of solution concepts for a class of private-information games. \n",
    "\n",
    ">For more information about Mechanism Design: https://en.wikipedia.org/wiki/Mechanism_design\n",
    "\n",
    ">For more information about VCG mechanism: https://en.wikipedia.org/wiki/Vickrey%E2%80%93Clarke%E2%80%93Groves_mechanism"
   ]
  },
  {
   "cell_type": "markdown",
   "id": "b14b0166",
   "metadata": {
    "papermill": {
     "duration": 0.004735,
     "end_time": "2025-02-13T12:49:35.156094",
     "exception": false,
     "start_time": "2025-02-13T12:49:35.151359",
     "status": "completed"
    },
    "tags": []
   },
   "source": [
    "# II. Config rules and information to be revealed to agents"
   ]
  },
  {
   "cell_type": "code",
   "execution_count": 1,
   "id": "a65352c8",
   "metadata": {
    "execution": {
     "iopub.execute_input": "2025-02-13T12:49:35.167898Z",
     "iopub.status.busy": "2025-02-13T12:49:35.167389Z",
     "iopub.status.idle": "2025-02-13T12:49:35.174405Z",
     "shell.execute_reply": "2025-02-13T12:49:35.173013Z"
    },
    "papermill": {
     "duration": 0.015202,
     "end_time": "2025-02-13T12:49:35.176346",
     "exception": false,
     "start_time": "2025-02-13T12:49:35.161144",
     "status": "completed"
    },
    "tags": []
   },
   "outputs": [],
   "source": [
    "if_output_result = True"
   ]
  },
  {
   "cell_type": "code",
   "execution_count": 2,
   "id": "6d9af7c1",
   "metadata": {
    "execution": {
     "iopub.execute_input": "2025-02-13T12:49:35.188505Z",
     "iopub.status.busy": "2025-02-13T12:49:35.188129Z",
     "iopub.status.idle": "2025-02-13T12:49:35.192382Z",
     "shell.execute_reply": "2025-02-13T12:49:35.191176Z"
    },
    "papermill": {
     "duration": 0.012269,
     "end_time": "2025-02-13T12:49:35.194224",
     "exception": false,
     "start_time": "2025-02-13T12:49:35.181955",
     "status": "completed"
    },
    "tags": []
   },
   "outputs": [],
   "source": [
    "simulation_target = \"Reveal formulas only\"\n",
    "comments = \"When only formulas are revealed, both models are failed to declare private value in all practices\""
   ]
  },
  {
   "cell_type": "code",
   "execution_count": 3,
   "id": "5be328d5",
   "metadata": {
    "execution": {
     "iopub.execute_input": "2025-02-13T12:49:35.205874Z",
     "iopub.status.busy": "2025-02-13T12:49:35.205416Z",
     "iopub.status.idle": "2025-02-13T12:49:35.210600Z",
     "shell.execute_reply": "2025-02-13T12:49:35.209437Z"
    },
    "papermill": {
     "duration": 0.013362,
     "end_time": "2025-02-13T12:49:35.212663",
     "exception": false,
     "start_time": "2025-02-13T12:49:35.199301",
     "status": "completed"
    },
    "tags": []
   },
   "outputs": [],
   "source": [
    "delimiter = \"####\"\n",
    "system_message = f\"\"\"\n",
    "This is a bilateral trade game. \\\n",
    "In this game there are only two roles, buyer and seller. \\\n",
    "buyer and seller have their own evaluation for a good and that is their private information, \\\n",
    "in the meantime they also have declared evaluation. Both buyer and seller want to maximize their own utility. \\\n",
    "Remember, this is simotaneous game, buyer and seller give the declared evaluation at the same time and whether the trade would or wouldn't occur will be decided by that. \\\n",
    "The formulas for corresponding measurements for buyer and seller are defined as below: \\\n",
    "    if trade_occurs:\n",
    "        price = -seller_declared_true_valuation\n",
    "\n",
    "        # Buyer's utility\n",
    "        buyer_utility = buyer_private_valuation - price\n",
    "\n",
    "        # Seller's transfer (using declared valuations)\n",
    "        seller_transfer = d * buyer_declared_valuation - buyer_declared_valuation\n",
    "\n",
    "        # Seller's utility (using private valuation)\n",
    "        seller_utility = seller_transfer + (-d * seller_private_valuation)\n",
    "    else:\n",
    "        price = 0\n",
    "        buyer_utility = 0\n",
    "        seller_utility = -d * seller_private_valuation\n",
    "\\\n",
    "Step 1:{delimiter} Given the information revealed, analyze what type of game it could be in terms of game theory and mechanism deisgn\n",
    "\n",
    "Step 2:{delimiter} Think about what should be the declared evaluation given the analysis in Step 1\n",
    "\n",
    "Step 3:{delimiter}: State your declared evaluation in the form of ##### Declared_Evaluation=Number #####\n",
    "\"\"\""
   ]
  },
  {
   "cell_type": "markdown",
   "id": "6054fd5d",
   "metadata": {
    "papermill": {
     "duration": 0.004609,
     "end_time": "2025-02-13T12:49:35.222525",
     "exception": false,
     "start_time": "2025-02-13T12:49:35.217916",
     "status": "completed"
    },
    "tags": []
   },
   "source": [
    "Considering telling the models the game is based on VCG rules, they will simply pick the DS, this is one extreme case; remove the VCG rules from the revealed information part would take them into another extreme, from below experiment you can see that they stop telling the truth.\n",
    "\n",
    "For the next step, we can test what would be the outcome if we only tell the agents the formulas for transfer, valuation, and utility, see if they can realize this is a VCG based game [To be added]"
   ]
  },
  {
   "cell_type": "code",
   "execution_count": 4,
   "id": "bce716d2",
   "metadata": {
    "execution": {
     "iopub.execute_input": "2025-02-13T12:49:35.234213Z",
     "iopub.status.busy": "2025-02-13T12:49:35.233823Z",
     "iopub.status.idle": "2025-02-13T12:49:35.238523Z",
     "shell.execute_reply": "2025-02-13T12:49:35.237052Z"
    },
    "papermill": {
     "duration": 0.012811,
     "end_time": "2025-02-13T12:49:35.240475",
     "exception": false,
     "start_time": "2025-02-13T12:49:35.227664",
     "status": "completed"
    },
    "tags": []
   },
   "outputs": [],
   "source": [
    "buyer_private_valuation = 5  # Buyer knows their own valuation\n",
    "seller_private_valuation = 3  # Seller knows their own cost"
   ]
  },
  {
   "cell_type": "code",
   "execution_count": 5,
   "id": "e1ebbd2c",
   "metadata": {
    "execution": {
     "iopub.execute_input": "2025-02-13T12:49:35.252259Z",
     "iopub.status.busy": "2025-02-13T12:49:35.251859Z",
     "iopub.status.idle": "2025-02-13T12:49:35.256431Z",
     "shell.execute_reply": "2025-02-13T12:49:35.255199Z"
    },
    "papermill": {
     "duration": 0.012505,
     "end_time": "2025-02-13T12:49:35.258314",
     "exception": false,
     "start_time": "2025-02-13T12:49:35.245809",
     "status": "completed"
    },
    "tags": []
   },
   "outputs": [],
   "source": [
    "buyer_prompt = f\"\"\"\n",
    "You are a buyer, your private evaluation for the good is {buyer_private_valuation}\"\"\".strip()\n",
    "seller_prompt = f\"\"\"\n",
    "You are a seller, your private evaluation for the good is {seller_private_valuation}\"\"\".strip()"
   ]
  },
  {
   "cell_type": "code",
   "execution_count": 6,
   "id": "0027c7d0",
   "metadata": {
    "execution": {
     "iopub.execute_input": "2025-02-13T12:49:35.269875Z",
     "iopub.status.busy": "2025-02-13T12:49:35.269461Z",
     "iopub.status.idle": "2025-02-13T12:49:35.273685Z",
     "shell.execute_reply": "2025-02-13T12:49:35.272617Z"
    },
    "papermill": {
     "duration": 0.012071,
     "end_time": "2025-02-13T12:49:35.275556",
     "exception": false,
     "start_time": "2025-02-13T12:49:35.263485",
     "status": "completed"
    },
    "tags": []
   },
   "outputs": [],
   "source": [
    "buyer_model = 'gemini-2.0-flash-thinking-exp'\n",
    "seller_model = 'gemini-1.5-flash-8b'"
   ]
  },
  {
   "cell_type": "markdown",
   "id": "9f288a52",
   "metadata": {
    "papermill": {
     "duration": 0.00467,
     "end_time": "2025-02-13T12:49:35.285662",
     "exception": false,
     "start_time": "2025-02-13T12:49:35.280992",
     "status": "completed"
    },
    "tags": []
   },
   "source": [
    "# III. Technical configuration"
   ]
  },
  {
   "cell_type": "code",
   "execution_count": 7,
   "id": "f999f28d",
   "metadata": {
    "execution": {
     "iopub.execute_input": "2025-02-13T12:49:35.296817Z",
     "iopub.status.busy": "2025-02-13T12:49:35.296434Z",
     "iopub.status.idle": "2025-02-13T12:49:36.687410Z",
     "shell.execute_reply": "2025-02-13T12:49:36.686316Z"
    },
    "papermill": {
     "duration": 1.398971,
     "end_time": "2025-02-13T12:49:36.689517",
     "exception": false,
     "start_time": "2025-02-13T12:49:35.290546",
     "status": "completed"
    },
    "tags": []
   },
   "outputs": [],
   "source": [
    "from kaggle_secrets import UserSecretsClient\n",
    "from google import genai\n",
    "\n",
    "\n",
    "user_secrets = UserSecretsClient()\n",
    "secret_value_0 = user_secrets.get_secret(\"Gemini\")\n",
    "\n",
    "client = genai.Client(\n",
    "    api_key=secret_value_0,\n",
    "    http_options={'api_version': 'v1alpha'},\n",
    ")"
   ]
  },
  {
   "cell_type": "code",
   "execution_count": 8,
   "id": "ca1cdd4e",
   "metadata": {
    "execution": {
     "iopub.execute_input": "2025-02-13T12:49:36.701367Z",
     "iopub.status.busy": "2025-02-13T12:49:36.700819Z",
     "iopub.status.idle": "2025-02-13T12:50:35.008934Z",
     "shell.execute_reply": "2025-02-13T12:50:35.007319Z"
    },
    "papermill": {
     "duration": 58.316255,
     "end_time": "2025-02-13T12:50:35.011071",
     "exception": false,
     "start_time": "2025-02-13T12:49:36.694816",
     "status": "completed"
    },
    "tags": []
   },
   "outputs": [],
   "source": [
    "\n",
    "\n",
    "messages = [\n",
    "    f\"{system_message}\",\n",
    "    f\"{buyer_prompt}\",\n",
    "]\n",
    "\n",
    "response = client.models.generate_content(\n",
    "    model=buyer_model,\n",
    "    contents=messages,\n",
    ")\n",
    "\n",
    "# print(response.text)\n",
    "\n",
    "buyer_thoughts = response.text"
   ]
  },
  {
   "cell_type": "code",
   "execution_count": 9,
   "id": "2fc0e014",
   "metadata": {
    "execution": {
     "iopub.execute_input": "2025-02-13T12:50:35.022590Z",
     "iopub.status.busy": "2025-02-13T12:50:35.022260Z",
     "iopub.status.idle": "2025-02-13T12:50:37.675621Z",
     "shell.execute_reply": "2025-02-13T12:50:37.674438Z"
    },
    "papermill": {
     "duration": 2.661226,
     "end_time": "2025-02-13T12:50:37.677594",
     "exception": false,
     "start_time": "2025-02-13T12:50:35.016368",
     "status": "completed"
    },
    "tags": []
   },
   "outputs": [],
   "source": [
    "\n",
    "\n",
    "messages = [\n",
    "    f\"{system_message}\",\n",
    "    f\"{seller_prompt}\",\n",
    "]\n",
    "\n",
    "response = client.models.generate_content(\n",
    "    model=seller_model,\n",
    "    contents=messages,\n",
    ")\n",
    "\n",
    "# print(response.text)\n",
    "\n",
    "seller_thoughts = response.text"
   ]
  },
  {
   "cell_type": "code",
   "execution_count": 10,
   "id": "2a8be384",
   "metadata": {
    "execution": {
     "iopub.execute_input": "2025-02-13T12:50:37.689439Z",
     "iopub.status.busy": "2025-02-13T12:50:37.689102Z",
     "iopub.status.idle": "2025-02-13T12:50:37.696148Z",
     "shell.execute_reply": "2025-02-13T12:50:37.694842Z"
    },
    "papermill": {
     "duration": 0.015111,
     "end_time": "2025-02-13T12:50:37.697999",
     "exception": false,
     "start_time": "2025-02-13T12:50:37.682888",
     "status": "completed"
    },
    "tags": []
   },
   "outputs": [
    {
     "name": "stdout",
     "output_type": "stream",
     "text": [
      "Extracted number: 5\n",
      "Extracted number: 4\n"
     ]
    }
   ],
   "source": [
    "import re\n",
    "\n",
    "# Regular expression to match 'Declared_Evaluation = ' followed by a number\n",
    "match = re.search(r\"Declared_Evaluation\\s*=\\s*(\\d+)\", buyer_thoughts)\n",
    "\n",
    "if match:\n",
    "    buyer_declared = int(match.group(1))  # Extract the number and convert it to an integer\n",
    "    print(f\"Extracted number: {buyer_declared}\")\n",
    "else:\n",
    "    print(\"No match found\")\n",
    "\n",
    "# Regular expression to match 'Declared_Evaluation = ' followed by a number\n",
    "match = re.search(r\"Declared_Evaluation\\s*=\\s*(\\d+)\", seller_thoughts)\n",
    "\n",
    "if match:\n",
    "    seller_declared = int(match.group(1))  # Extract the number and convert it to an integer\n",
    "    print(f\"Extracted number: {seller_declared}\")\n",
    "else:\n",
    "    print(\"No match found\")"
   ]
  },
  {
   "cell_type": "markdown",
   "id": "e5ed2f63",
   "metadata": {
    "papermill": {
     "duration": 0.004789,
     "end_time": "2025-02-13T12:50:37.708069",
     "exception": false,
     "start_time": "2025-02-13T12:50:37.703280",
     "status": "completed"
    },
    "tags": []
   },
   "source": [
    "# IV. Trade Outcome and Agents' Reasoning Steps"
   ]
  },
  {
   "cell_type": "code",
   "execution_count": 11,
   "id": "c2e0e1ab",
   "metadata": {
    "execution": {
     "iopub.execute_input": "2025-02-13T12:50:37.719596Z",
     "iopub.status.busy": "2025-02-13T12:50:37.719256Z",
     "iopub.status.idle": "2025-02-13T12:50:37.727913Z",
     "shell.execute_reply": "2025-02-13T12:50:37.726821Z"
    },
    "papermill": {
     "duration": 0.016408,
     "end_time": "2025-02-13T12:50:37.729548",
     "exception": false,
     "start_time": "2025-02-13T12:50:37.713140",
     "status": "completed"
    },
    "tags": []
   },
   "outputs": [
    {
     "name": "stdout",
     "output_type": "stream",
     "text": [
      "Buyer private valuation: 5 \n",
      "\n",
      "Buyer declared valuation: 5 \n",
      "\n",
      "Seller private valuation (inherent cost): 3 \n",
      "\n",
      "Seller declared valuation (inherent cost): 4 \n",
      "\n",
      "Buyer thoughts: \n",
      " Step 1: #### Given the information revealed, analyze what type of game it could be in terms of game theory and mechanism deisgn\n",
      "This is a simultaneous bilateral trade game with incomplete information, as both buyer and seller have private valuations. It can be analyzed as a mechanism design problem where the declared valuations determine whether a trade occurs and the resulting utilities. The game is simultaneous because both players declare their valuations at the same time.\n",
      "\n",
      "Step 2: #### Think about what should be the declared evaluation given the analysis in Step 1\n",
      "Let's consider the case where price = seller_declared_valuation (assuming typo correction from -seller_declared_true_valuation and using the declared valuation for price determination, as this is more standard in mechanism design).\n",
      "If trade occurs ($buyer\\_declared\\_valuation \\ge seller\\_declared\\_valuation$):\n",
      "    price = $seller\\_declared\\_valuation$\n",
      "    buyer\\_utility = $buyer\\_private\\_valuation - price = 5 - seller\\_declared\\_valuation$\n",
      "    seller\\_utility = $(d-1) \\times buyer\\_declared\\_valuation - d \\times seller\\_private\\_valuation$\n",
      "If no trade:\n",
      "    buyer\\_utility = 0\n",
      "    seller\\_utility = $-d \\times seller\\_private\\_valuation$\n",
      "\n",
      "Buyer wants to maximize their utility. To ensure trade and potentially maximize utility, the buyer should consider declaring their true valuation. Let's assume the seller also considers declaring their true valuation or a valuation based on their private information to maximize their utility. In a scenario with no further information about the seller's strategy, declaring the true valuation is often a reasonable starting point and can be a part of a truthful strategy in certain mechanism designs.  If the buyer declares a valuation lower than their private valuation, they might miss out on potential trades that would have been beneficial. If they declare a valuation higher, they risk agreeing to trades that give them negative utility if the price is high. Given the lack of information on the seller's strategy and private valuation, declaring the true private valuation is a prudent approach.\n",
      "\n",
      "Step 3: ####: State your declared evaluation in the form of ##### Declared_Evaluation=Number #####\n",
      "##### Declared_Evaluation=5 ##### \n",
      "\n"
     ]
    }
   ],
   "source": [
    "def vcg_bilateral_trade(buyer_private_valuation, seller_private_valuation,declared_valuation,declared_cost, d=1):\n",
    "    \"\"\"Simulates bilateral trade with the VCG mechanism.\n",
    "\n",
    "    Args:\n",
    "        buyer_private_valuation: The buyer's true valuation.\n",
    "        seller_private_valuation: The seller's true cost.\n",
    "        d: Externality scaling factor.\n",
    "\n",
    "    Returns:\n",
    "        Tuple: (trade_occurs, price, buyer_utility, seller_utility)\n",
    "    \"\"\"\n",
    "    # Buyer and seller use LLMs to decide their declared valuations\n",
    "    buyer_declared_valuation = declared_valuation\n",
    "    seller_declared_valuation = declared_cost\n",
    "\n",
    "    # Seller's declared valuation with externality\n",
    "    seller_declared_true_valuation = -d * seller_declared_valuation\n",
    "\n",
    "    # Trade decision based on declared valuations\n",
    "    if buyer_declared_valuation >= -seller_declared_true_valuation:\n",
    "        trade_occurs = True\n",
    "    else:\n",
    "        trade_occurs = False\n",
    "\n",
    "    if trade_occurs:\n",
    "        # VCG price based on declared valuations\n",
    "        price = -seller_declared_true_valuation\n",
    "\n",
    "        # Buyer's utility (using private valuation)\n",
    "        buyer_utility = buyer_private_valuation - price\n",
    "\n",
    "        # Seller's transfer (using declared valuations)\n",
    "        seller_transfer = d * buyer_declared_valuation - buyer_declared_valuation\n",
    "\n",
    "        # Seller's utility (using private valuation)\n",
    "        seller_utility = seller_transfer + (-d * seller_private_valuation)\n",
    "    else:\n",
    "        price = 0\n",
    "        buyer_utility = 0\n",
    "        seller_utility = -d * seller_private_valuation\n",
    "\n",
    "    return (trade_occurs, price, buyer_utility, seller_utility, \n",
    "            buyer_declared_valuation, seller_declared_valuation)\n",
    "\n",
    "\n",
    "\n",
    "results = vcg_bilateral_trade(buyer_private_valuation, seller_private_valuation, buyer_declared, seller_declared)\n",
    "\n",
    "trade_occurs, price, buyer_utility, seller_utility, \\\n",
    "buyer_declared_valuation, seller_declared_valuation = results\n",
    "\n",
    "print(f\"Buyer private valuation: {buyer_private_valuation} \\n\")\n",
    "print(f\"Buyer declared valuation: {buyer_declared_valuation} \\n\")\n",
    "print(f\"Seller private valuation (inherent cost): {seller_private_valuation} \\n\")\n",
    "print(f\"Seller declared valuation (inherent cost): {seller_declared_valuation} \\n\")\n",
    "print(f\"Buyer thoughts: \\n {buyer_thoughts} \\n\")"
   ]
  },
  {
   "cell_type": "code",
   "execution_count": 12,
   "id": "c631bdef",
   "metadata": {
    "execution": {
     "iopub.execute_input": "2025-02-13T12:50:37.741476Z",
     "iopub.status.busy": "2025-02-13T12:50:37.741135Z",
     "iopub.status.idle": "2025-02-13T12:50:37.746335Z",
     "shell.execute_reply": "2025-02-13T12:50:37.745127Z"
    },
    "jupyter": {
     "source_hidden": true
    },
    "papermill": {
     "duration": 0.013252,
     "end_time": "2025-02-13T12:50:37.748179",
     "exception": false,
     "start_time": "2025-02-13T12:50:37.734927",
     "status": "completed"
    },
    "tags": []
   },
   "outputs": [
    {
     "name": "stdout",
     "output_type": "stream",
     "text": [
      "Seller thoughts: \n",
      " Step 1: **Game Type Analysis**\n",
      "\n",
      "This is a simultaneous, single-shot, private-values auction (or bilateral trade game).  It's a *Bayesian game* because the buyer and seller's valuations are private information.  It's not a standard auction format (like English, Dutch, or sealed-bid), but it shares the fundamental characteristics. The key element is the strategic interaction where each agent's choice (declared valuation) depends on their belief about the other agent's likely choice and their own private information.  There's no explicit \"bidding\" structure, but the declared valuations play a similar role. The game has a potential for *strategic misrepresentation*—a seller might declare a higher valuation than their private value to gain a better deal. The outcome depends on the *equilibrium* of the game, which in turn depends on the strategies chosen by the buyer and seller, and the possible valuations.\n",
      "\n",
      "\n",
      "Step 2: **Declaring Evaluation**\n",
      "\n",
      "The crucial concept is *Nash Equilibrium*.  In a Bayesian game, we look for strategies such that, given what we believe the other player will do, the best thing to do is to declare our chosen value.  Without knowing the buyer's potential valuations or their strategy, we can't calculate the exact Nash Equilibrium.\n",
      "\n",
      "However, we can reason qualitatively.  The seller's utility is dependent on both the buyer's declared value and the seller's private valuation. The *d* term is a critical factor. If *d* is high, it will be more lucrative to inflate the declared value, as the buyer's willingness to pay is more amplified.  If *d* is low, then honesty might be a better strategy.  A seller with a valuation of 3 will likely try to manipulate the price to make the deal more lucrative.  Without knowing the distribution of the buyer's private values or the strategies of the buyer, no specific calculation to the 'optimal' declaration can be made.  \n",
      "\n",
      "The seller's optimal strategy will consider the expected buyer's response and the likelihood of a trade occurring. If the seller's valuation is 3, they would probably want to try to maximize the price above 3.  If *d* is close to 1, this might mean that they have to declare values above 3.  If *d* is lower, then declaring slightly higher than 3 may lead to a better deal.\n",
      "\n",
      "Step 3: **Declared Evaluation**\n",
      "\n",
      "##### Declared_Evaluation=4 #####\n",
      " \n",
      "\n"
     ]
    }
   ],
   "source": [
    "print(f\"Seller thoughts: \\n {seller_thoughts} \\n\")"
   ]
  },
  {
   "cell_type": "code",
   "execution_count": 13,
   "id": "623d27b7",
   "metadata": {
    "execution": {
     "iopub.execute_input": "2025-02-13T12:50:37.760480Z",
     "iopub.status.busy": "2025-02-13T12:50:37.760127Z",
     "iopub.status.idle": "2025-02-13T12:50:37.766197Z",
     "shell.execute_reply": "2025-02-13T12:50:37.764922Z"
    },
    "papermill": {
     "duration": 0.014403,
     "end_time": "2025-02-13T12:50:37.768023",
     "exception": false,
     "start_time": "2025-02-13T12:50:37.753620",
     "status": "completed"
    },
    "tags": []
   },
   "outputs": [
    {
     "name": "stdout",
     "output_type": "stream",
     "text": [
      "Trade occurs: True \n",
      "\n",
      "Price: 4\n",
      "Buyer utility: 1\n",
      "Seller utility: -3\n"
     ]
    }
   ],
   "source": [
    "print(f\"Trade occurs: {trade_occurs} \\n\")\n",
    "if trade_occurs:\n",
    "    print(f\"Price: {price}\")\n",
    "    print(f\"Buyer utility: {buyer_utility}\")\n",
    "    print(f\"Seller utility: {seller_utility}\")\n",
    "else:\n",
    "    print(f\"Price: {price}\")\n",
    "    print(f\"Buyer utility: {buyer_utility}\")\n",
    "    print(f\"Seller utility: {seller_utility}\")"
   ]
  },
  {
   "cell_type": "markdown",
   "id": "cdf37255",
   "metadata": {
    "papermill": {
     "duration": 0.005004,
     "end_time": "2025-02-13T12:50:37.778971",
     "exception": false,
     "start_time": "2025-02-13T12:50:37.773967",
     "status": "completed"
    },
    "tags": []
   },
   "source": [
    "# V. Records"
   ]
  },
  {
   "cell_type": "code",
   "execution_count": 14,
   "id": "d57bacb4",
   "metadata": {
    "execution": {
     "iopub.execute_input": "2025-02-13T12:50:37.790789Z",
     "iopub.status.busy": "2025-02-13T12:50:37.790398Z",
     "iopub.status.idle": "2025-02-13T12:50:38.956348Z",
     "shell.execute_reply": "2025-02-13T12:50:38.955273Z"
    },
    "papermill": {
     "duration": 1.17416,
     "end_time": "2025-02-13T12:50:38.958435",
     "exception": false,
     "start_time": "2025-02-13T12:50:37.784275",
     "status": "completed"
    },
    "tags": []
   },
   "outputs": [],
   "source": [
    "import pandas as pd\n",
    "from datetime import datetime\n",
    "\n",
    "data = {\n",
    "    'simulation_target': [simulation_target],\n",
    "    'system_message': [system_message],\n",
    "    'buyer_private_valuation': [buyer_private_valuation],\n",
    "    'buyer_declared_valuation': [buyer_declared_valuation],\n",
    "    'buyer_utility': [buyer_utility],\n",
    "    'buyer_model': [buyer_model],\n",
    "    'seller_private_valuation': [seller_private_valuation],\n",
    "    'seller_declared_valuation': [seller_declared_valuation],\n",
    "    'seller_utility':[seller_utility],\n",
    "    'seller_model': [seller_model],\n",
    "    'trade_occurs': [trade_occurs],\n",
    "    'price': [price],\n",
    "    'Timestamp': [datetime.now()],\n",
    "    'comments': [comments],\n",
    "    'buyer_thoughts': [buyer_thoughts],\n",
    "    'seller_thoughts': [seller_thoughts]\n",
    "}\n",
    "df = pd.DataFrame(data)\n",
    "\n",
    "\n",
    "if if_output_result:\n",
    "    csv_file = 'data_log.csv'\n",
    "\n",
    "    try:\n",
    "        # Try to read the existing CSV file\n",
    "        existing_df = pd.read_csv(csv_file)\n",
    "        # Append the new data\n",
    "        updated_df = pd.concat([existing_df, df], ignore_index=True)\n",
    "    except FileNotFoundError:\n",
    "        # If the file does not exist, the new data is the updated data\n",
    "        updated_df = df\n",
    "\n",
    "    # Save the updated DataFrame to the CSV file\n",
    "    updated_df.to_csv(csv_file, index=False)\n",
    "else:\n",
    "    print(\"if_output_result == False\")"
   ]
  },
  {
   "cell_type": "code",
   "execution_count": 15,
   "id": "1d2e4e5d",
   "metadata": {
    "execution": {
     "iopub.execute_input": "2025-02-13T12:50:38.970616Z",
     "iopub.status.busy": "2025-02-13T12:50:38.970282Z",
     "iopub.status.idle": "2025-02-13T12:50:38.978763Z",
     "shell.execute_reply": "2025-02-13T12:50:38.977794Z"
    },
    "papermill": {
     "duration": 0.016735,
     "end_time": "2025-02-13T12:50:38.980631",
     "exception": false,
     "start_time": "2025-02-13T12:50:38.963896",
     "status": "completed"
    },
    "tags": []
   },
   "outputs": [],
   "source": [
    "import pandas as pd\n",
    "\n",
    "log = pd.read_csv(\"/kaggle/working/data_log.csv\")"
   ]
  },
  {
   "cell_type": "code",
   "execution_count": 16,
   "id": "04f49f27",
   "metadata": {
    "execution": {
     "iopub.execute_input": "2025-02-13T12:50:38.992555Z",
     "iopub.status.busy": "2025-02-13T12:50:38.992209Z",
     "iopub.status.idle": "2025-02-13T12:50:39.024157Z",
     "shell.execute_reply": "2025-02-13T12:50:39.022728Z"
    },
    "papermill": {
     "duration": 0.039901,
     "end_time": "2025-02-13T12:50:39.026102",
     "exception": false,
     "start_time": "2025-02-13T12:50:38.986201",
     "status": "completed"
    },
    "tags": []
   },
   "outputs": [
    {
     "data": {
      "text/html": [
       "<div>\n",
       "<style scoped>\n",
       "    .dataframe tbody tr th:only-of-type {\n",
       "        vertical-align: middle;\n",
       "    }\n",
       "\n",
       "    .dataframe tbody tr th {\n",
       "        vertical-align: top;\n",
       "    }\n",
       "\n",
       "    .dataframe thead th {\n",
       "        text-align: right;\n",
       "    }\n",
       "</style>\n",
       "<table border=\"1\" class=\"dataframe\">\n",
       "  <thead>\n",
       "    <tr style=\"text-align: right;\">\n",
       "      <th></th>\n",
       "      <th>simulation_target</th>\n",
       "      <th>system_message</th>\n",
       "      <th>buyer_private_valuation</th>\n",
       "      <th>buyer_declared_valuation</th>\n",
       "      <th>buyer_utility</th>\n",
       "      <th>buyer_model</th>\n",
       "      <th>seller_private_valuation</th>\n",
       "      <th>seller_declared_valuation</th>\n",
       "      <th>seller_utility</th>\n",
       "      <th>seller_model</th>\n",
       "      <th>trade_occurs</th>\n",
       "      <th>price</th>\n",
       "      <th>Timestamp</th>\n",
       "      <th>comments</th>\n",
       "      <th>buyer_thoughts</th>\n",
       "      <th>seller_thoughts</th>\n",
       "    </tr>\n",
       "  </thead>\n",
       "  <tbody>\n",
       "    <tr>\n",
       "      <th>0</th>\n",
       "      <td>Reveal formulas only</td>\n",
       "      <td>\\nThis is a bilateral trade game. In this game...</td>\n",
       "      <td>5</td>\n",
       "      <td>5</td>\n",
       "      <td>1</td>\n",
       "      <td>gemini-2.0-flash-thinking-exp</td>\n",
       "      <td>3</td>\n",
       "      <td>4</td>\n",
       "      <td>-3</td>\n",
       "      <td>gemini-1.5-flash-8b</td>\n",
       "      <td>True</td>\n",
       "      <td>4</td>\n",
       "      <td>2025-02-13 12:50:38.936059</td>\n",
       "      <td>When only formulas are revealed, both models a...</td>\n",
       "      <td>Step 1: #### Given the information revealed, a...</td>\n",
       "      <td>Step 1: **Game Type Analysis**\\n\\nThis is a si...</td>\n",
       "    </tr>\n",
       "  </tbody>\n",
       "</table>\n",
       "</div>"
      ],
      "text/plain": [
       "      simulation_target                                     system_message  \\\n",
       "0  Reveal formulas only  \\nThis is a bilateral trade game. In this game...   \n",
       "\n",
       "   buyer_private_valuation  buyer_declared_valuation  buyer_utility  \\\n",
       "0                        5                         5              1   \n",
       "\n",
       "                     buyer_model  seller_private_valuation  \\\n",
       "0  gemini-2.0-flash-thinking-exp                         3   \n",
       "\n",
       "   seller_declared_valuation  seller_utility         seller_model  \\\n",
       "0                          4              -3  gemini-1.5-flash-8b   \n",
       "\n",
       "   trade_occurs  price                   Timestamp  \\\n",
       "0          True      4  2025-02-13 12:50:38.936059   \n",
       "\n",
       "                                            comments  \\\n",
       "0  When only formulas are revealed, both models a...   \n",
       "\n",
       "                                      buyer_thoughts  \\\n",
       "0  Step 1: #### Given the information revealed, a...   \n",
       "\n",
       "                                     seller_thoughts  \n",
       "0  Step 1: **Game Type Analysis**\\n\\nThis is a si...  "
      ]
     },
     "execution_count": 16,
     "metadata": {},
     "output_type": "execute_result"
    }
   ],
   "source": [
    "log"
   ]
  },
  {
   "cell_type": "markdown",
   "id": "54df6e61",
   "metadata": {
    "papermill": {
     "duration": 0.006696,
     "end_time": "2025-02-13T12:50:39.038928",
     "exception": false,
     "start_time": "2025-02-13T12:50:39.032232",
     "status": "completed"
    },
    "tags": []
   },
   "source": [
    "# X. References and useful information\n",
    "\n",
    "https://ai.google.dev/gemini-api/docs/thinking\n",
    "\n",
    "pip install --upgrade google-generativeai\n",
    "\n",
    "?client.models.generate_content"
   ]
  },
  {
   "cell_type": "markdown",
   "id": "97eb301f",
   "metadata": {
    "papermill": {
     "duration": 0.005696,
     "end_time": "2025-02-13T12:50:39.051011",
     "exception": false,
     "start_time": "2025-02-13T12:50:39.045315",
     "status": "completed"
    },
    "tags": []
   },
   "source": [
    "With information revealed to buyer and seller as below, both of buyer and seller would delcare their true evaluation given the selected model\n",
    "\n",
    ">This is a bilateral trade game following VCG rules defined in VCG mechanism. \\\n",
    "In this game there are only two roles, buyer and seller. \\\n",
    "buyer and seller have their own evaluation for a good and that is their private information, \\\n",
    "in the meantime they also have declared evaluation. Both buyer and seller want to maximize their own utility. \\\n",
    "Remember, this is simotaneous game, buyer and seller give the declared evaluation at the same time and whether the trade would or wouldn't occur will be decided by that\n",
    "\n",
    "Next I will remove the VCG rules from the revealed information part"
   ]
  }
 ],
 "metadata": {
  "kaggle": {
   "accelerator": "none",
   "dataSources": [],
   "dockerImageVersionId": 30886,
   "isGpuEnabled": false,
   "isInternetEnabled": true,
   "language": "python",
   "sourceType": "notebook"
  },
  "kernelspec": {
   "display_name": "Python 3",
   "language": "python",
   "name": "python3"
  },
  "language_info": {
   "codemirror_mode": {
    "name": "ipython",
    "version": 3
   },
   "file_extension": ".py",
   "mimetype": "text/x-python",
   "name": "python",
   "nbconvert_exporter": "python",
   "pygments_lexer": "ipython3",
   "version": "3.10.12"
  },
  "papermill": {
   "default_parameters": {},
   "duration": 67.589887,
   "end_time": "2025-02-13T12:50:39.778831",
   "environment_variables": {},
   "exception": null,
   "input_path": "__notebook__.ipynb",
   "output_path": "__notebook__.ipynb",
   "parameters": {},
   "start_time": "2025-02-13T12:49:32.188944",
   "version": "2.6.0"
  }
 },
 "nbformat": 4,
 "nbformat_minor": 5
}
