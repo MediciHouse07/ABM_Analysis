{
 "cells": [
  {
   "cell_type": "markdown",
   "id": "155aaa12",
   "metadata": {
    "papermill": {
     "duration": 0.005458,
     "end_time": "2025-02-13T13:03:40.354863",
     "exception": false,
     "start_time": "2025-02-13T13:03:40.349405",
     "status": "completed"
    },
    "tags": []
   },
   "source": [
    "# I. Preface\n",
    "\n",
    "As a practitioner and enthusiast in simulation, I have always been fascinated by modeling business, economics, politics, and more through programs. In this notebook, I will explore the potential outcomes of integrating Mechanism Design theories with Generative AI by selectively revealing information to agents and observing their reactions.\n",
    "\n",
    "Through repeated experiments, this approach achieves three key goals:\n",
    "\n",
    "- Gaining a fresh perspective on GenAI models.\n",
    "- Understanding how AI agents respond to economic theory-driven rules.\n",
    "- Most importantly—finding enjoyment in the process (and by 'you,' I really mean 'I').\n",
    "\n",
    "This is the first step in my exploration, and I’m making it public to invite discussion. If you share a similar interest, feel free to comment and exchange ideas.\n",
    "In this notebook, we will simulate a bilateral trade with two roles: buyer and seller. Each participant has a private valuation of the good. They must decide on their declared valuation. If the buyer's declared valuation is greater than the seller's, a trade occurs; otherwise, no deal is made.\n",
    "The game follows the VCG (Vickrey-Clarke-Groves) mechanism, which determines the corresponding calculations, such as the transfer payments for the buyer and seller.\n",
    "\n",
    ">Mechanism design (sometimes implementation theory or institution design)[1] is a branch of economics and game theory. It studies how to construct rules—called mechanisms or institutions—that produce good outcomes according to some predefined metric, even when the designer does not know the players' true preferences or what information they have. Mechanism design thus focuses on the study of solution concepts for a class of private-information games. \n",
    "\n",
    ">For more information about Mechanism Design: https://en.wikipedia.org/wiki/Mechanism_design\n",
    "\n",
    ">For more information about VCG mechanism: https://en.wikipedia.org/wiki/Vickrey%E2%80%93Clarke%E2%80%93Groves_mechanism"
   ]
  },
  {
   "cell_type": "markdown",
   "id": "39946d2f",
   "metadata": {
    "papermill": {
     "duration": 0.00483,
     "end_time": "2025-02-13T13:03:40.364706",
     "exception": false,
     "start_time": "2025-02-13T13:03:40.359876",
     "status": "completed"
    },
    "tags": []
   },
   "source": [
    "# II. Config rules and information to be revealed to agents"
   ]
  },
  {
   "cell_type": "code",
   "execution_count": 1,
   "id": "8d83c6dd",
   "metadata": {
    "execution": {
     "iopub.execute_input": "2025-02-13T13:03:40.375093Z",
     "iopub.status.busy": "2025-02-13T13:03:40.374731Z",
     "iopub.status.idle": "2025-02-13T13:03:40.380195Z",
     "shell.execute_reply": "2025-02-13T13:03:40.379320Z"
    },
    "papermill": {
     "duration": 0.012305,
     "end_time": "2025-02-13T13:03:40.381604",
     "exception": false,
     "start_time": "2025-02-13T13:03:40.369299",
     "status": "completed"
    },
    "tags": []
   },
   "outputs": [],
   "source": [
    "if_output_result = True"
   ]
  },
  {
   "cell_type": "code",
   "execution_count": 2,
   "id": "ab389473",
   "metadata": {
    "execution": {
     "iopub.execute_input": "2025-02-13T13:03:40.392368Z",
     "iopub.status.busy": "2025-02-13T13:03:40.392072Z",
     "iopub.status.idle": "2025-02-13T13:03:40.395470Z",
     "shell.execute_reply": "2025-02-13T13:03:40.394741Z"
    },
    "papermill": {
     "duration": 0.010331,
     "end_time": "2025-02-13T13:03:40.396786",
     "exception": false,
     "start_time": "2025-02-13T13:03:40.386455",
     "status": "completed"
    },
    "tags": []
   },
   "outputs": [],
   "source": [
    "simulation_target = \"VCG mechanism are revealed to both agents\"\n",
    "comments = \"\""
   ]
  },
  {
   "cell_type": "code",
   "execution_count": 3,
   "id": "18a75ad2",
   "metadata": {
    "execution": {
     "iopub.execute_input": "2025-02-13T13:03:40.407077Z",
     "iopub.status.busy": "2025-02-13T13:03:40.406763Z",
     "iopub.status.idle": "2025-02-13T13:03:40.410786Z",
     "shell.execute_reply": "2025-02-13T13:03:40.410111Z"
    },
    "papermill": {
     "duration": 0.01079,
     "end_time": "2025-02-13T13:03:40.412178",
     "exception": false,
     "start_time": "2025-02-13T13:03:40.401388",
     "status": "completed"
    },
    "tags": []
   },
   "outputs": [],
   "source": [
    "delimiter = \"####\"\n",
    "system_message = f\"\"\"\n",
    "This is a bilateral trade game following VCG rules defined in VCG mechanism. \\\n",
    "This is a bilateral trade game. \\\n",
    "In this game there are only two roles, buyer and seller. \\\n",
    "buyer and seller have their own evaluation for a good and that is their private information, \\\n",
    "in the meantime they also have declared evaluation. Both buyer and seller want to maximize their own utility. \\\n",
    "Remember, this is simotaneous game, buyer and seller give the declared evaluation at the same time and whether the trade would or wouldn't occur will be decided by that. \\\n",
    "The formulas for corresponding measurements for buyer and seller are defined as below: \\\n",
    "    if trade_occurs:\n",
    "        price = -seller_declared_true_valuation\n",
    "\n",
    "        # Buyer's utility\n",
    "        buyer_utility = buyer_private_valuation - price\n",
    "\n",
    "        # Seller's transfer (using declared valuations)\n",
    "        seller_transfer = d * buyer_declared_valuation - buyer_declared_valuation\n",
    "\n",
    "        # Seller's utility (using private valuation)\n",
    "        seller_utility = seller_transfer + (-d * seller_private_valuation)\n",
    "    else:\n",
    "        price = 0\n",
    "        buyer_utility = 0\n",
    "        seller_utility = -d * seller_private_valuation\n",
    "\\\n",
    "When trade occurs, d=1. \\\n",
    "\n",
    "Step 1:{delimiter} Given the information revealed, analyze what type of game it could be in terms of game theory and mechanism deisgn\n",
    "\n",
    "Step 2:{delimiter} Think about what should be the declared evaluation given the analysis in Step 1\n",
    "\n",
    "Step 3:{delimiter}: State your declared evaluation in the form of ##### Declared_Evaluation=Number #####\n",
    "\"\"\""
   ]
  },
  {
   "cell_type": "markdown",
   "id": "1402eeeb",
   "metadata": {
    "papermill": {
     "duration": 0.004353,
     "end_time": "2025-02-13T13:03:40.421248",
     "exception": false,
     "start_time": "2025-02-13T13:03:40.416895",
     "status": "completed"
    },
    "tags": []
   },
   "source": [
    "Considering telling the models the game is based on VCG rules, they will simply pick the DS, this is one extreme case; remove the VCG rules from the revealed information part would take them into another extreme, from below experiment you can see that they stop telling the truth.\n",
    "\n",
    "For the next step, we can test what would be the outcome if we only tell the agents the formulas for transfer, valuation, and utility, see if they can realize this is a VCG based game [To be added]"
   ]
  },
  {
   "cell_type": "code",
   "execution_count": 4,
   "id": "d2d61498",
   "metadata": {
    "execution": {
     "iopub.execute_input": "2025-02-13T13:03:40.431775Z",
     "iopub.status.busy": "2025-02-13T13:03:40.431455Z",
     "iopub.status.idle": "2025-02-13T13:03:40.435084Z",
     "shell.execute_reply": "2025-02-13T13:03:40.434289Z"
    },
    "papermill": {
     "duration": 0.010613,
     "end_time": "2025-02-13T13:03:40.436487",
     "exception": false,
     "start_time": "2025-02-13T13:03:40.425874",
     "status": "completed"
    },
    "tags": []
   },
   "outputs": [],
   "source": [
    "buyer_private_valuation = 5  # Buyer knows their own valuation\n",
    "seller_private_valuation = 3  # Seller knows their own cost"
   ]
  },
  {
   "cell_type": "code",
   "execution_count": 5,
   "id": "58759c08",
   "metadata": {
    "execution": {
     "iopub.execute_input": "2025-02-13T13:03:40.446649Z",
     "iopub.status.busy": "2025-02-13T13:03:40.446381Z",
     "iopub.status.idle": "2025-02-13T13:03:40.450071Z",
     "shell.execute_reply": "2025-02-13T13:03:40.449288Z"
    },
    "papermill": {
     "duration": 0.010238,
     "end_time": "2025-02-13T13:03:40.451479",
     "exception": false,
     "start_time": "2025-02-13T13:03:40.441241",
     "status": "completed"
    },
    "tags": []
   },
   "outputs": [],
   "source": [
    "buyer_prompt = f\"\"\"\n",
    "You are a buyer, your private evaluation for the good is {buyer_private_valuation}\"\"\".strip()\n",
    "seller_prompt = f\"\"\"\n",
    "You are a seller, your private evaluation for the good is {seller_private_valuation}\"\"\".strip()"
   ]
  },
  {
   "cell_type": "code",
   "execution_count": 6,
   "id": "955e005f",
   "metadata": {
    "execution": {
     "iopub.execute_input": "2025-02-13T13:03:40.461783Z",
     "iopub.status.busy": "2025-02-13T13:03:40.461486Z",
     "iopub.status.idle": "2025-02-13T13:03:40.465170Z",
     "shell.execute_reply": "2025-02-13T13:03:40.464386Z"
    },
    "papermill": {
     "duration": 0.010396,
     "end_time": "2025-02-13T13:03:40.466598",
     "exception": false,
     "start_time": "2025-02-13T13:03:40.456202",
     "status": "completed"
    },
    "tags": []
   },
   "outputs": [],
   "source": [
    "buyer_model = 'gemini-2.0-flash-thinking-exp'\n",
    "seller_model = 'gemini-1.5-flash-8b'"
   ]
  },
  {
   "cell_type": "markdown",
   "id": "61e40e4b",
   "metadata": {
    "papermill": {
     "duration": 0.004459,
     "end_time": "2025-02-13T13:03:40.475740",
     "exception": false,
     "start_time": "2025-02-13T13:03:40.471281",
     "status": "completed"
    },
    "tags": []
   },
   "source": [
    "# III. Technical configuration"
   ]
  },
  {
   "cell_type": "code",
   "execution_count": 7,
   "id": "06403b9e",
   "metadata": {
    "execution": {
     "iopub.execute_input": "2025-02-13T13:03:40.486080Z",
     "iopub.status.busy": "2025-02-13T13:03:40.485731Z",
     "iopub.status.idle": "2025-02-13T13:03:41.754651Z",
     "shell.execute_reply": "2025-02-13T13:03:41.753879Z"
    },
    "papermill": {
     "duration": 1.275858,
     "end_time": "2025-02-13T13:03:41.756308",
     "exception": false,
     "start_time": "2025-02-13T13:03:40.480450",
     "status": "completed"
    },
    "tags": []
   },
   "outputs": [],
   "source": [
    "from kaggle_secrets import UserSecretsClient\n",
    "from google import genai\n",
    "\n",
    "\n",
    "user_secrets = UserSecretsClient()\n",
    "secret_value_0 = user_secrets.get_secret(\"Gemini\")\n",
    "\n",
    "client = genai.Client(\n",
    "    api_key=secret_value_0,\n",
    "    http_options={'api_version': 'v1alpha'},\n",
    ")"
   ]
  },
  {
   "cell_type": "code",
   "execution_count": 8,
   "id": "4eb5fe43",
   "metadata": {
    "execution": {
     "iopub.execute_input": "2025-02-13T13:03:41.767070Z",
     "iopub.status.busy": "2025-02-13T13:03:41.766574Z",
     "iopub.status.idle": "2025-02-13T13:04:22.562140Z",
     "shell.execute_reply": "2025-02-13T13:04:22.561236Z"
    },
    "papermill": {
     "duration": 40.80283,
     "end_time": "2025-02-13T13:04:22.563935",
     "exception": false,
     "start_time": "2025-02-13T13:03:41.761105",
     "status": "completed"
    },
    "tags": []
   },
   "outputs": [],
   "source": [
    "\n",
    "\n",
    "messages = [\n",
    "    f\"{system_message}\",\n",
    "    f\"{buyer_prompt}\",\n",
    "]\n",
    "\n",
    "response = client.models.generate_content(\n",
    "    model=buyer_model,\n",
    "    contents=messages,\n",
    ")\n",
    "\n",
    "# print(response.text)\n",
    "\n",
    "buyer_thoughts = response.text"
   ]
  },
  {
   "cell_type": "code",
   "execution_count": 9,
   "id": "ac8c2fd7",
   "metadata": {
    "execution": {
     "iopub.execute_input": "2025-02-13T13:04:22.575187Z",
     "iopub.status.busy": "2025-02-13T13:04:22.574786Z",
     "iopub.status.idle": "2025-02-13T13:04:26.599663Z",
     "shell.execute_reply": "2025-02-13T13:04:26.598418Z"
    },
    "papermill": {
     "duration": 4.032597,
     "end_time": "2025-02-13T13:04:26.601633",
     "exception": false,
     "start_time": "2025-02-13T13:04:22.569036",
     "status": "completed"
    },
    "tags": []
   },
   "outputs": [],
   "source": [
    "\n",
    "\n",
    "messages = [\n",
    "    f\"{system_message}\",\n",
    "    f\"{seller_prompt}\",\n",
    "]\n",
    "\n",
    "response = client.models.generate_content(\n",
    "    model=seller_model,\n",
    "    contents=messages,\n",
    ")\n",
    "\n",
    "# print(response.text)\n",
    "\n",
    "seller_thoughts = response.text"
   ]
  },
  {
   "cell_type": "code",
   "execution_count": 10,
   "id": "f2943c26",
   "metadata": {
    "execution": {
     "iopub.execute_input": "2025-02-13T13:04:26.612858Z",
     "iopub.status.busy": "2025-02-13T13:04:26.612515Z",
     "iopub.status.idle": "2025-02-13T13:04:26.619508Z",
     "shell.execute_reply": "2025-02-13T13:04:26.618383Z"
    },
    "papermill": {
     "duration": 0.014162,
     "end_time": "2025-02-13T13:04:26.620928",
     "exception": false,
     "start_time": "2025-02-13T13:04:26.606766",
     "status": "completed"
    },
    "tags": []
   },
   "outputs": [
    {
     "name": "stdout",
     "output_type": "stream",
     "text": [
      "Extracted number: 5\n",
      "Extracted number: 4\n"
     ]
    }
   ],
   "source": [
    "import re\n",
    "\n",
    "# Regular expression to match 'Declared_Evaluation = ' followed by a number\n",
    "match = re.search(r\"Declared_Evaluation\\s*=\\s*(\\d+)\", buyer_thoughts)\n",
    "\n",
    "if match:\n",
    "    buyer_declared = int(match.group(1))  # Extract the number and convert it to an integer\n",
    "    print(f\"Extracted number: {buyer_declared}\")\n",
    "else:\n",
    "    print(\"No match found\")\n",
    "\n",
    "# Regular expression to match 'Declared_Evaluation = ' followed by a number\n",
    "match = re.search(r\"Declared_Evaluation\\s*=\\s*(\\d+)\", seller_thoughts)\n",
    "\n",
    "if match:\n",
    "    seller_declared = int(match.group(1))  # Extract the number and convert it to an integer\n",
    "    print(f\"Extracted number: {seller_declared}\")\n",
    "else:\n",
    "    print(\"No match found\")"
   ]
  },
  {
   "cell_type": "markdown",
   "id": "4c8e13bd",
   "metadata": {
    "papermill": {
     "duration": 0.004646,
     "end_time": "2025-02-13T13:04:26.630811",
     "exception": false,
     "start_time": "2025-02-13T13:04:26.626165",
     "status": "completed"
    },
    "tags": []
   },
   "source": [
    "# IV. Trade Outcome and Agents' Reasoning Steps"
   ]
  },
  {
   "cell_type": "code",
   "execution_count": 11,
   "id": "ba512ba8",
   "metadata": {
    "execution": {
     "iopub.execute_input": "2025-02-13T13:04:26.642336Z",
     "iopub.status.busy": "2025-02-13T13:04:26.641936Z",
     "iopub.status.idle": "2025-02-13T13:04:26.650917Z",
     "shell.execute_reply": "2025-02-13T13:04:26.650007Z"
    },
    "papermill": {
     "duration": 0.016322,
     "end_time": "2025-02-13T13:04:26.652557",
     "exception": false,
     "start_time": "2025-02-13T13:04:26.636235",
     "status": "completed"
    },
    "tags": []
   },
   "outputs": [
    {
     "name": "stdout",
     "output_type": "stream",
     "text": [
      "Buyer private valuation: 5 \n",
      "\n",
      "Buyer declared valuation: 5 \n",
      "\n",
      "Seller private valuation (inherent cost): 3 \n",
      "\n",
      "Seller declared valuation (inherent cost): 4 \n",
      "\n",
      "Buyer thoughts: \n",
      " Step 1: #### Analyze the game in terms of game theory and mechanism design\n",
      "\n",
      "This is a bilateral trade game, which is a type of game theory problem involving two players, a buyer and a seller, who are considering trading a single item. The mechanism is defined by specific rules that determine if a trade occurs and what the payments are. In this case, the mechanism is described as following VCG rules, although the given formulas are not standard VCG implementation.\n",
      "\n",
      "The game is a simultaneous game because both buyer and seller declare their evaluations at the same time without knowing the other's declaration. Each player aims to maximize their own utility.\n",
      "\n",
      "From a mechanism design perspective, we are interested in designing rules that incentivize desirable outcomes, such as efficiency or truthfulness. VCG mechanisms are generally designed to promote truthfulness as a dominant strategy and achieve efficiency. However, the provided utility functions are unusual and might not result in standard VCG properties.\n",
      "\n",
      "Let's analyze the utility functions:\n",
      "- **Buyer's utility:** Buyer utility is positive (buyer_private_valuation + seller_declared_valuation) if trade occurs and 0 if trade doesn't occur. Buyer prefers trade if seller_declared_valuation > -buyer_private_valuation, which is almost always true if seller_declared_valuation is non-negative and buyer_private_valuation is positive.\n",
      "- **Seller's utility:** Seller utility is negative (-seller_private_valuation) if trade occurs and 0 if trade doesn't occur. Seller always prefers no trade if seller_private_valuation > 0 because 0 > -seller_private_valuation.\n",
      "\n",
      "This setup creates a conflict: the buyer wants trade to occur, and the seller wants to avoid trade (assuming seller_private_valuation > 0). Trade occurs only if buyer_declared_valuation >= seller_declared_valuation.\n",
      "\n",
      "Step 2: #### Think about what should be the declared evaluation given the analysis in Step 1\n",
      "\n",
      "As a buyer with private valuation 5, I want to maximize my utility. My utility is:\n",
      "- 5 + seller_declared_valuation, if buyer_declared_valuation >= seller_declared_valuation\n",
      "- 0, if buyer_declared_valuation < seller_declared_valuation\n",
      "\n",
      "To maximize my utility, I want to ensure that trade occurs (buyer_declared_valuation >= seller_declared_valuation) because 5 + seller_declared_valuation is likely to be positive (assuming seller_declared_valuation is not significantly negative).\n",
      "\n",
      "Knowing that the seller prefers to avoid trade (if seller_private_valuation > 0), the seller will try to declare a seller_declared_valuation that is greater than my buyer_declared_valuation to prevent trade and achieve a utility of 0.\n",
      "\n",
      "However, if I declare a high buyer_declared_valuation, I might increase the chance that my declared valuation is greater than or equal to the seller's declared valuation, especially if the seller's declared valuation is bounded or if the seller is uncertain about my declaration and cannot perfectly react.\n",
      "\n",
      "If I declare my true valuation, which is 5, and if the seller declares a value less than or equal to 5, trade will occur, and my utility will be 5 + seller_declared_valuation. If the seller declares a value greater than 5, trade will not occur, and my utility will be 0.\n",
      "\n",
      "In the absence of information about the seller's valuation or strategy, declaring my true valuation is a reasonable starting point. It reflects my actual willingness to trade at a certain threshold relative to the seller's declaration.  Although, based on the analysis, a higher declaration might increase the chance of trade, without further information on the seller's strategy or possible range of declared values, sticking to the truthful valuation is a defensible strategy in a situation with such unusual utility functions.\n",
      "\n",
      "Step 3: ####: State your declared evaluation in the form of ##### Declared_Evaluation=Number #####\n",
      "\n",
      "##### Declared_Evaluation=5 \n",
      "\n"
     ]
    }
   ],
   "source": [
    "def vcg_bilateral_trade(buyer_private_valuation, seller_private_valuation,declared_valuation,declared_cost, d=1):\n",
    "    \"\"\"Simulates bilateral trade with the VCG mechanism.\n",
    "\n",
    "    Args:\n",
    "        buyer_private_valuation: The buyer's true valuation.\n",
    "        seller_private_valuation: The seller's true cost.\n",
    "        d: Externality scaling factor.\n",
    "\n",
    "    Returns:\n",
    "        Tuple: (trade_occurs, price, buyer_utility, seller_utility)\n",
    "    \"\"\"\n",
    "    # Buyer and seller use LLMs to decide their declared valuations\n",
    "    buyer_declared_valuation = declared_valuation\n",
    "    seller_declared_valuation = declared_cost\n",
    "\n",
    "    # Seller's declared valuation with externality\n",
    "    seller_declared_true_valuation = -d * seller_declared_valuation\n",
    "\n",
    "    # Trade decision based on declared valuations\n",
    "    if buyer_declared_valuation >= -seller_declared_true_valuation:\n",
    "        trade_occurs = True\n",
    "    else:\n",
    "        trade_occurs = False\n",
    "\n",
    "    if trade_occurs:\n",
    "        # VCG price based on declared valuations\n",
    "        price = -seller_declared_true_valuation\n",
    "\n",
    "        # Buyer's utility (using private valuation)\n",
    "        buyer_utility = buyer_private_valuation - price\n",
    "\n",
    "        # Seller's transfer (using declared valuations)\n",
    "        seller_transfer = d * buyer_declared_valuation - buyer_declared_valuation\n",
    "\n",
    "        # Seller's utility (using private valuation)\n",
    "        seller_utility = seller_transfer + (-d * seller_private_valuation)\n",
    "    else:\n",
    "        price = 0\n",
    "        buyer_utility = 0\n",
    "        seller_utility = -d * seller_private_valuation\n",
    "\n",
    "    return (trade_occurs, price, buyer_utility, seller_utility, \n",
    "            buyer_declared_valuation, seller_declared_valuation)\n",
    "\n",
    "\n",
    "\n",
    "results = vcg_bilateral_trade(buyer_private_valuation, seller_private_valuation, buyer_declared, seller_declared)\n",
    "\n",
    "trade_occurs, price, buyer_utility, seller_utility, \\\n",
    "buyer_declared_valuation, seller_declared_valuation = results\n",
    "\n",
    "print(f\"Buyer private valuation: {buyer_private_valuation} \\n\")\n",
    "print(f\"Buyer declared valuation: {buyer_declared_valuation} \\n\")\n",
    "print(f\"Seller private valuation (inherent cost): {seller_private_valuation} \\n\")\n",
    "print(f\"Seller declared valuation (inherent cost): {seller_declared_valuation} \\n\")\n",
    "print(f\"Buyer thoughts: \\n {buyer_thoughts} \\n\")"
   ]
  },
  {
   "cell_type": "code",
   "execution_count": 12,
   "id": "7b69d080",
   "metadata": {
    "execution": {
     "iopub.execute_input": "2025-02-13T13:04:26.663867Z",
     "iopub.status.busy": "2025-02-13T13:04:26.663527Z",
     "iopub.status.idle": "2025-02-13T13:04:26.667763Z",
     "shell.execute_reply": "2025-02-13T13:04:26.666752Z"
    },
    "jupyter": {
     "source_hidden": true
    },
    "papermill": {
     "duration": 0.011834,
     "end_time": "2025-02-13T13:04:26.669464",
     "exception": false,
     "start_time": "2025-02-13T13:04:26.657630",
     "status": "completed"
    },
    "tags": []
   },
   "outputs": [
    {
     "name": "stdout",
     "output_type": "stream",
     "text": [
      "Seller thoughts: \n",
      " Step 1: **Game Theory and Mechanism Design Analysis**\n",
      "\n",
      "This is a simultaneous, private-value, first-price auction with a specific form of payment.  It's a variant of a standard bilateral trade game.  The key is the *VCG-like* payment scheme, which directly connects the declared valuations of both parties to the transfer payment, and the fact that the trade happens (and the payment is made) based solely on the declared valuations, *regardless of the actual private valuations*. This means the seller's utility calculation doesn't immediately depend on whether their *true* valuation is higher or lower than the price.\n",
      "\n",
      "The game has strategic interaction because each player's best response depends on what the other player is expected to do. If one player declares a high valuation, the other might be incentivized to declare a high valuation to increase their chance of a trade (or to influence the resulting price).  The mechanism is designed in such a way that the declared evaluations directly influence the payment, but the true evaluation influences the utility directly only if the trade takes place.\n",
      "\n",
      "\n",
      "Step 2: **Optimal Declared Evaluation**\n",
      "\n",
      "The strategic part comes from *how much higher or lower a declared valuation should be than the private valuation*.\n",
      "\n",
      "There's no dominant strategy. If the buyer declares a very high value, it might attract a trade, but they may pay a very high price. If they declare a very low value, they might get a favorable price, but they might not attract any trades at all.  A simple analysis shows a direct link between the declared and true valuation of the other party. For a given buyer valuation, the declared valuation of the seller will influence the price.\n",
      "\n",
      "Crucially, the seller's optimal strategy is not to simply declare a valuation equal to their private valuation.   The payment scheme, especially the `d * buyer_declared_valuation - buyer_declared_valuation` component, makes the direct relation between the declared and actual valuation of the other player critical.\n",
      "\n",
      "There's no definitive answer without knowing the buyer's strategy.  We can only reason about potential strategies and their payoffs. A plausible strategy is to adjust declared valuation.  Declaring a higher value than 3 might entice a trade, but could result in a lower net utility. Declaring a value lower than 3 might lead to lower payment in the event of a trade.\n",
      "\n",
      "If *d* = 1 (as stated), then maximizing the utility (or minimizing the loss in case of no trade), the seller should consider how the buyer might react to their declared valuation, and vice-versa.  There's a temptation to understate the value, but this is countered by the potential for a trade and a gain if the buyer's declared valuation is high.\n",
      "\n",
      "\n",
      "Step 3: **Declared Evaluation**\n",
      "\n",
      "##### Declared_Evaluation=4 #####\n",
      "\n",
      "(Note: This is a *potential* declared evaluation, not a guaranteed optimal one. Without knowing the assumed buyer strategy, it's impossible to definitively determine the best strategy.  It's likely that a more complex analysis and possibly iterative calculations would be needed to determine the optimal valuation, and there's no guarantee a closed-form solution exists.)\n",
      " \n",
      "\n"
     ]
    }
   ],
   "source": [
    "print(f\"Seller thoughts: \\n {seller_thoughts} \\n\")"
   ]
  },
  {
   "cell_type": "code",
   "execution_count": 13,
   "id": "b1244f64",
   "metadata": {
    "execution": {
     "iopub.execute_input": "2025-02-13T13:04:26.681095Z",
     "iopub.status.busy": "2025-02-13T13:04:26.680664Z",
     "iopub.status.idle": "2025-02-13T13:04:26.686642Z",
     "shell.execute_reply": "2025-02-13T13:04:26.685719Z"
    },
    "papermill": {
     "duration": 0.013654,
     "end_time": "2025-02-13T13:04:26.688310",
     "exception": false,
     "start_time": "2025-02-13T13:04:26.674656",
     "status": "completed"
    },
    "tags": []
   },
   "outputs": [
    {
     "name": "stdout",
     "output_type": "stream",
     "text": [
      "Trade occurs: True \n",
      "\n",
      "Price: 4\n",
      "Buyer utility: 1\n",
      "Seller utility: -3\n"
     ]
    }
   ],
   "source": [
    "print(f\"Trade occurs: {trade_occurs} \\n\")\n",
    "if trade_occurs:\n",
    "    print(f\"Price: {price}\")\n",
    "    print(f\"Buyer utility: {buyer_utility}\")\n",
    "    print(f\"Seller utility: {seller_utility}\")\n",
    "else:\n",
    "    print(f\"Price: {price}\")\n",
    "    print(f\"Buyer utility: {buyer_utility}\")\n",
    "    print(f\"Seller utility: {seller_utility}\")"
   ]
  },
  {
   "cell_type": "markdown",
   "id": "573c7cb2",
   "metadata": {
    "papermill": {
     "duration": 0.004936,
     "end_time": "2025-02-13T13:04:26.698608",
     "exception": false,
     "start_time": "2025-02-13T13:04:26.693672",
     "status": "completed"
    },
    "tags": []
   },
   "source": [
    "# V. Records"
   ]
  },
  {
   "cell_type": "code",
   "execution_count": 14,
   "id": "cfbfe7d0",
   "metadata": {
    "execution": {
     "iopub.execute_input": "2025-02-13T13:04:26.710757Z",
     "iopub.status.busy": "2025-02-13T13:04:26.710427Z",
     "iopub.status.idle": "2025-02-13T13:04:27.799559Z",
     "shell.execute_reply": "2025-02-13T13:04:27.798391Z"
    },
    "papermill": {
     "duration": 1.096925,
     "end_time": "2025-02-13T13:04:27.801420",
     "exception": false,
     "start_time": "2025-02-13T13:04:26.704495",
     "status": "completed"
    },
    "tags": []
   },
   "outputs": [],
   "source": [
    "import pandas as pd\n",
    "from datetime import datetime\n",
    "\n",
    "data = {\n",
    "    'simulation_target': [simulation_target],\n",
    "    'system_message': [system_message],\n",
    "    'buyer_private_valuation': [buyer_private_valuation],\n",
    "    'buyer_declared_valuation': [buyer_declared_valuation],\n",
    "    'buyer_utility': [buyer_utility],\n",
    "    'buyer_model': [buyer_model],\n",
    "    'seller_private_valuation': [seller_private_valuation],\n",
    "    'seller_declared_valuation': [seller_declared_valuation],\n",
    "    'seller_utility':[seller_utility],\n",
    "    'seller_model': [seller_model],\n",
    "    'trade_occurs': [trade_occurs],\n",
    "    'price': [price],\n",
    "    'Timestamp': [datetime.now()],\n",
    "    'comments': [comments],\n",
    "    'buyer_thoughts': [buyer_thoughts],\n",
    "    'seller_thoughts': [seller_thoughts]\n",
    "}\n",
    "df = pd.DataFrame(data)\n",
    "\n",
    "\n",
    "if if_output_result:\n",
    "    csv_file = 'data_log.csv'\n",
    "\n",
    "    try:\n",
    "        # Try to read the existing CSV file\n",
    "        existing_df = pd.read_csv(csv_file)\n",
    "        # Append the new data\n",
    "        updated_df = pd.concat([existing_df, df], ignore_index=True)\n",
    "    except FileNotFoundError:\n",
    "        # If the file does not exist, the new data is the updated data\n",
    "        updated_df = df\n",
    "\n",
    "    # Save the updated DataFrame to the CSV file\n",
    "    updated_df.to_csv(csv_file, index=False)\n",
    "else:\n",
    "    print(\"if_output_result == False\")"
   ]
  },
  {
   "cell_type": "code",
   "execution_count": 15,
   "id": "6d6a083d",
   "metadata": {
    "execution": {
     "iopub.execute_input": "2025-02-13T13:04:27.813404Z",
     "iopub.status.busy": "2025-02-13T13:04:27.813026Z",
     "iopub.status.idle": "2025-02-13T13:04:27.821749Z",
     "shell.execute_reply": "2025-02-13T13:04:27.820679Z"
    },
    "papermill": {
     "duration": 0.016806,
     "end_time": "2025-02-13T13:04:27.823541",
     "exception": false,
     "start_time": "2025-02-13T13:04:27.806735",
     "status": "completed"
    },
    "tags": []
   },
   "outputs": [],
   "source": [
    "import pandas as pd\n",
    "\n",
    "log = pd.read_csv(\"/kaggle/working/data_log.csv\")"
   ]
  },
  {
   "cell_type": "code",
   "execution_count": 16,
   "id": "b9540e39",
   "metadata": {
    "execution": {
     "iopub.execute_input": "2025-02-13T13:04:27.835461Z",
     "iopub.status.busy": "2025-02-13T13:04:27.835138Z",
     "iopub.status.idle": "2025-02-13T13:04:27.865933Z",
     "shell.execute_reply": "2025-02-13T13:04:27.864828Z"
    },
    "papermill": {
     "duration": 0.038658,
     "end_time": "2025-02-13T13:04:27.867561",
     "exception": false,
     "start_time": "2025-02-13T13:04:27.828903",
     "status": "completed"
    },
    "tags": []
   },
   "outputs": [
    {
     "name": "stderr",
     "output_type": "stream",
     "text": [
      "/usr/local/lib/python3.10/dist-packages/pandas/io/formats/format.py:1458: RuntimeWarning: invalid value encountered in greater\n",
      "  has_large_values = (abs_vals > 1e6).any()\n",
      "/usr/local/lib/python3.10/dist-packages/pandas/io/formats/format.py:1459: RuntimeWarning: invalid value encountered in less\n",
      "  has_small_values = ((abs_vals < 10 ** (-self.digits)) & (abs_vals > 0)).any()\n",
      "/usr/local/lib/python3.10/dist-packages/pandas/io/formats/format.py:1459: RuntimeWarning: invalid value encountered in greater\n",
      "  has_small_values = ((abs_vals < 10 ** (-self.digits)) & (abs_vals > 0)).any()\n"
     ]
    },
    {
     "data": {
      "text/html": [
       "<div>\n",
       "<style scoped>\n",
       "    .dataframe tbody tr th:only-of-type {\n",
       "        vertical-align: middle;\n",
       "    }\n",
       "\n",
       "    .dataframe tbody tr th {\n",
       "        vertical-align: top;\n",
       "    }\n",
       "\n",
       "    .dataframe thead th {\n",
       "        text-align: right;\n",
       "    }\n",
       "</style>\n",
       "<table border=\"1\" class=\"dataframe\">\n",
       "  <thead>\n",
       "    <tr style=\"text-align: right;\">\n",
       "      <th></th>\n",
       "      <th>simulation_target</th>\n",
       "      <th>system_message</th>\n",
       "      <th>buyer_private_valuation</th>\n",
       "      <th>buyer_declared_valuation</th>\n",
       "      <th>buyer_utility</th>\n",
       "      <th>buyer_model</th>\n",
       "      <th>seller_private_valuation</th>\n",
       "      <th>seller_declared_valuation</th>\n",
       "      <th>seller_utility</th>\n",
       "      <th>seller_model</th>\n",
       "      <th>trade_occurs</th>\n",
       "      <th>price</th>\n",
       "      <th>Timestamp</th>\n",
       "      <th>comments</th>\n",
       "      <th>buyer_thoughts</th>\n",
       "      <th>seller_thoughts</th>\n",
       "    </tr>\n",
       "  </thead>\n",
       "  <tbody>\n",
       "    <tr>\n",
       "      <th>0</th>\n",
       "      <td>VCG mechanism are revealed to both agents</td>\n",
       "      <td>\\nThis is a bilateral trade game following VCG...</td>\n",
       "      <td>5</td>\n",
       "      <td>5</td>\n",
       "      <td>1</td>\n",
       "      <td>gemini-2.0-flash-thinking-exp</td>\n",
       "      <td>3</td>\n",
       "      <td>4</td>\n",
       "      <td>-3</td>\n",
       "      <td>gemini-1.5-flash-8b</td>\n",
       "      <td>True</td>\n",
       "      <td>4</td>\n",
       "      <td>2025-02-13 13:04:27.779693</td>\n",
       "      <td>NaN</td>\n",
       "      <td>Step 1: #### Analyze the game in terms of game...</td>\n",
       "      <td>Step 1: **Game Theory and Mechanism Design Ana...</td>\n",
       "    </tr>\n",
       "  </tbody>\n",
       "</table>\n",
       "</div>"
      ],
      "text/plain": [
       "                           simulation_target  \\\n",
       "0  VCG mechanism are revealed to both agents   \n",
       "\n",
       "                                      system_message  buyer_private_valuation  \\\n",
       "0  \\nThis is a bilateral trade game following VCG...                        5   \n",
       "\n",
       "   buyer_declared_valuation  buyer_utility                    buyer_model  \\\n",
       "0                         5              1  gemini-2.0-flash-thinking-exp   \n",
       "\n",
       "   seller_private_valuation  seller_declared_valuation  seller_utility  \\\n",
       "0                         3                          4              -3   \n",
       "\n",
       "          seller_model  trade_occurs  price                   Timestamp  \\\n",
       "0  gemini-1.5-flash-8b          True      4  2025-02-13 13:04:27.779693   \n",
       "\n",
       "   comments                                     buyer_thoughts  \\\n",
       "0       NaN  Step 1: #### Analyze the game in terms of game...   \n",
       "\n",
       "                                     seller_thoughts  \n",
       "0  Step 1: **Game Theory and Mechanism Design Ana...  "
      ]
     },
     "execution_count": 16,
     "metadata": {},
     "output_type": "execute_result"
    }
   ],
   "source": [
    "log"
   ]
  },
  {
   "cell_type": "markdown",
   "id": "d62f060f",
   "metadata": {
    "papermill": {
     "duration": 0.005077,
     "end_time": "2025-02-13T13:04:27.878206",
     "exception": false,
     "start_time": "2025-02-13T13:04:27.873129",
     "status": "completed"
    },
    "tags": []
   },
   "source": [
    "# X. References and useful information\n",
    "\n",
    "https://ai.google.dev/gemini-api/docs/thinking\n",
    "\n",
    "pip install --upgrade google-generativeai\n",
    "\n",
    "?client.models.generate_content"
   ]
  },
  {
   "cell_type": "markdown",
   "id": "f1e6ba02",
   "metadata": {
    "papermill": {
     "duration": 0.005024,
     "end_time": "2025-02-13T13:04:27.888455",
     "exception": false,
     "start_time": "2025-02-13T13:04:27.883431",
     "status": "completed"
    },
    "tags": []
   },
   "source": [
    "With information revealed to buyer and seller as below, both of buyer and seller would delcare their true evaluation given the selected model\n",
    "\n",
    ">This is a bilateral trade game following VCG rules defined in VCG mechanism. \\\n",
    "In this game there are only two roles, buyer and seller. \\\n",
    "buyer and seller have their own evaluation for a good and that is their private information, \\\n",
    "in the meantime they also have declared evaluation. Both buyer and seller want to maximize their own utility. \\\n",
    "Remember, this is simotaneous game, buyer and seller give the declared evaluation at the same time and whether the trade would or wouldn't occur will be decided by that\n",
    "\n",
    "Next I will remove the VCG rules from the revealed information part"
   ]
  }
 ],
 "metadata": {
  "kaggle": {
   "accelerator": "none",
   "dataSources": [],
   "dockerImageVersionId": 30886,
   "isGpuEnabled": false,
   "isInternetEnabled": true,
   "language": "python",
   "sourceType": "notebook"
  },
  "kernelspec": {
   "display_name": "Python 3",
   "language": "python",
   "name": "python3"
  },
  "language_info": {
   "codemirror_mode": {
    "name": "ipython",
    "version": 3
   },
   "file_extension": ".py",
   "mimetype": "text/x-python",
   "name": "python",
   "nbconvert_exporter": "python",
   "pygments_lexer": "ipython3",
   "version": "3.10.12"
  },
  "papermill": {
   "default_parameters": {},
   "duration": 51.006395,
   "end_time": "2025-02-13T13:04:28.613733",
   "environment_variables": {},
   "exception": null,
   "input_path": "__notebook__.ipynb",
   "output_path": "__notebook__.ipynb",
   "parameters": {},
   "start_time": "2025-02-13T13:03:37.607338",
   "version": "2.6.0"
  }
 },
 "nbformat": 4,
 "nbformat_minor": 5
}
