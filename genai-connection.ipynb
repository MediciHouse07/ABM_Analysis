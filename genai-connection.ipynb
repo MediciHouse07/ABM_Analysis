{
 "cells": [
  {
   "cell_type": "markdown",
   "id": "cd4f0ba5",
   "metadata": {
    "papermill": {
     "duration": 0.005775,
     "end_time": "2025-02-13T12:53:28.895828",
     "exception": false,
     "start_time": "2025-02-13T12:53:28.890053",
     "status": "completed"
    },
    "tags": []
   },
   "source": [
    "# I. Preface\n",
    "\n",
    "As a practitioner and enthusiast in simulation, I have always been fascinated by modeling business, economics, politics, and more through programs. In this notebook, I will explore the potential outcomes of integrating Mechanism Design theories with Generative AI by selectively revealing information to agents and observing their reactions.\n",
    "\n",
    "Through repeated experiments, this approach achieves three key goals:\n",
    "\n",
    "- Gaining a fresh perspective on GenAI models.\n",
    "- Understanding how AI agents respond to economic theory-driven rules.\n",
    "- Most importantly—finding enjoyment in the process (and by 'you,' I really mean 'I').\n",
    "\n",
    "This is the first step in my exploration, and I’m making it public to invite discussion. If you share a similar interest, feel free to comment and exchange ideas.\n",
    "In this notebook, we will simulate a bilateral trade with two roles: buyer and seller. Each participant has a private valuation of the good. They must decide on their declared valuation. If the buyer's declared valuation is greater than the seller's, a trade occurs; otherwise, no deal is made.\n",
    "The game follows the VCG (Vickrey-Clarke-Groves) mechanism, which determines the corresponding calculations, such as the transfer payments for the buyer and seller.\n",
    "\n",
    ">Mechanism design (sometimes implementation theory or institution design)[1] is a branch of economics and game theory. It studies how to construct rules—called mechanisms or institutions—that produce good outcomes according to some predefined metric, even when the designer does not know the players' true preferences or what information they have. Mechanism design thus focuses on the study of solution concepts for a class of private-information games. \n",
    "\n",
    ">For more information about Mechanism Design: https://en.wikipedia.org/wiki/Mechanism_design\n",
    "\n",
    ">For more information about VCG mechanism: https://en.wikipedia.org/wiki/Vickrey%E2%80%93Clarke%E2%80%93Groves_mechanism"
   ]
  },
  {
   "cell_type": "markdown",
   "id": "f4d17163",
   "metadata": {
    "papermill": {
     "duration": 0.004743,
     "end_time": "2025-02-13T12:53:28.906382",
     "exception": false,
     "start_time": "2025-02-13T12:53:28.901639",
     "status": "completed"
    },
    "tags": []
   },
   "source": [
    "# II. Config rules and information to be revealed to agents"
   ]
  },
  {
   "cell_type": "code",
   "execution_count": 1,
   "id": "3825c6b6",
   "metadata": {
    "execution": {
     "iopub.execute_input": "2025-02-13T12:53:28.917964Z",
     "iopub.status.busy": "2025-02-13T12:53:28.917481Z",
     "iopub.status.idle": "2025-02-13T12:53:28.923098Z",
     "shell.execute_reply": "2025-02-13T12:53:28.922114Z"
    },
    "papermill": {
     "duration": 0.013391,
     "end_time": "2025-02-13T12:53:28.924905",
     "exception": false,
     "start_time": "2025-02-13T12:53:28.911514",
     "status": "completed"
    },
    "tags": []
   },
   "outputs": [],
   "source": [
    "if_output_result = True"
   ]
  },
  {
   "cell_type": "code",
   "execution_count": 2,
   "id": "da6559c0",
   "metadata": {
    "execution": {
     "iopub.execute_input": "2025-02-13T12:53:28.936442Z",
     "iopub.status.busy": "2025-02-13T12:53:28.936059Z",
     "iopub.status.idle": "2025-02-13T12:53:28.940500Z",
     "shell.execute_reply": "2025-02-13T12:53:28.939145Z"
    },
    "papermill": {
     "duration": 0.012586,
     "end_time": "2025-02-13T12:53:28.942713",
     "exception": false,
     "start_time": "2025-02-13T12:53:28.930127",
     "status": "completed"
    },
    "tags": []
   },
   "outputs": [],
   "source": [
    "simulation_target = \"VCG mechanism are revealed to both agents\"\n",
    "comments = \"\""
   ]
  },
  {
   "cell_type": "code",
   "execution_count": 3,
   "id": "94835c27",
   "metadata": {
    "execution": {
     "iopub.execute_input": "2025-02-13T12:53:28.954366Z",
     "iopub.status.busy": "2025-02-13T12:53:28.953962Z",
     "iopub.status.idle": "2025-02-13T12:53:28.958768Z",
     "shell.execute_reply": "2025-02-13T12:53:28.957783Z"
    },
    "papermill": {
     "duration": 0.012679,
     "end_time": "2025-02-13T12:53:28.960586",
     "exception": false,
     "start_time": "2025-02-13T12:53:28.947907",
     "status": "completed"
    },
    "tags": []
   },
   "outputs": [],
   "source": [
    "delimiter = \"####\"\n",
    "system_message = f\"\"\"\n",
    "This is a bilateral trade game following VCG rules defined in VCG mechanism. \\\n",
    "This is a bilateral trade game. \\\n",
    "In this game there are only two roles, buyer and seller. \\\n",
    "buyer and seller have their own evaluation for a good and that is their private information, \\\n",
    "in the meantime they also have declared evaluation. Both buyer and seller want to maximize their own utility. \\\n",
    "Remember, this is simotaneous game, buyer and seller give the declared evaluation at the same time and whether the trade would or wouldn't occur will be decided by that. \\\n",
    "The formulas for corresponding measurements for buyer and seller are defined as below: \\\n",
    "    if trade_occurs:\n",
    "        price = -seller_declared_true_valuation\n",
    "\n",
    "        # Buyer's utility\n",
    "        buyer_utility = buyer_private_valuation - price\n",
    "\n",
    "        # Seller's transfer (using declared valuations)\n",
    "        seller_transfer = d * buyer_declared_valuation - buyer_declared_valuation\n",
    "\n",
    "        # Seller's utility (using private valuation)\n",
    "        seller_utility = seller_transfer + (-d * seller_private_valuation)\n",
    "    else:\n",
    "        price = 0\n",
    "        buyer_utility = 0\n",
    "        seller_utility = -d * seller_private_valuation\n",
    "\\\n",
    "Step 1:{delimiter} Given the information revealed, analyze what type of game it could be in terms of game theory and mechanism deisgn\n",
    "\n",
    "Step 2:{delimiter} Think about what should be the declared evaluation given the analysis in Step 1\n",
    "\n",
    "Step 3:{delimiter}: State your declared evaluation in the form of ##### Declared_Evaluation=Number #####\n",
    "\"\"\""
   ]
  },
  {
   "cell_type": "markdown",
   "id": "d09ef973",
   "metadata": {
    "papermill": {
     "duration": 0.00468,
     "end_time": "2025-02-13T12:53:28.970462",
     "exception": false,
     "start_time": "2025-02-13T12:53:28.965782",
     "status": "completed"
    },
    "tags": []
   },
   "source": [
    "Considering telling the models the game is based on VCG rules, they will simply pick the DS, this is one extreme case; remove the VCG rules from the revealed information part would take them into another extreme, from below experiment you can see that they stop telling the truth.\n",
    "\n",
    "For the next step, we can test what would be the outcome if we only tell the agents the formulas for transfer, valuation, and utility, see if they can realize this is a VCG based game [To be added]"
   ]
  },
  {
   "cell_type": "code",
   "execution_count": 4,
   "id": "bc923324",
   "metadata": {
    "execution": {
     "iopub.execute_input": "2025-02-13T12:53:28.982051Z",
     "iopub.status.busy": "2025-02-13T12:53:28.981702Z",
     "iopub.status.idle": "2025-02-13T12:53:28.985932Z",
     "shell.execute_reply": "2025-02-13T12:53:28.984661Z"
    },
    "papermill": {
     "duration": 0.012036,
     "end_time": "2025-02-13T12:53:28.987611",
     "exception": false,
     "start_time": "2025-02-13T12:53:28.975575",
     "status": "completed"
    },
    "tags": []
   },
   "outputs": [],
   "source": [
    "buyer_private_valuation = 5  # Buyer knows their own valuation\n",
    "seller_private_valuation = 3  # Seller knows their own cost"
   ]
  },
  {
   "cell_type": "code",
   "execution_count": 5,
   "id": "529b2d84",
   "metadata": {
    "execution": {
     "iopub.execute_input": "2025-02-13T12:53:28.999362Z",
     "iopub.status.busy": "2025-02-13T12:53:28.998909Z",
     "iopub.status.idle": "2025-02-13T12:53:29.003466Z",
     "shell.execute_reply": "2025-02-13T12:53:29.002341Z"
    },
    "papermill": {
     "duration": 0.012661,
     "end_time": "2025-02-13T12:53:29.005629",
     "exception": false,
     "start_time": "2025-02-13T12:53:28.992968",
     "status": "completed"
    },
    "tags": []
   },
   "outputs": [],
   "source": [
    "buyer_prompt = f\"\"\"\n",
    "You are a buyer, your private evaluation for the good is {buyer_private_valuation}\"\"\".strip()\n",
    "seller_prompt = f\"\"\"\n",
    "You are a seller, your private evaluation for the good is {seller_private_valuation}\"\"\".strip()"
   ]
  },
  {
   "cell_type": "code",
   "execution_count": 6,
   "id": "1d0d34e6",
   "metadata": {
    "execution": {
     "iopub.execute_input": "2025-02-13T12:53:29.017153Z",
     "iopub.status.busy": "2025-02-13T12:53:29.016810Z",
     "iopub.status.idle": "2025-02-13T12:53:29.020868Z",
     "shell.execute_reply": "2025-02-13T12:53:29.019808Z"
    },
    "papermill": {
     "duration": 0.011661,
     "end_time": "2025-02-13T12:53:29.022572",
     "exception": false,
     "start_time": "2025-02-13T12:53:29.010911",
     "status": "completed"
    },
    "tags": []
   },
   "outputs": [],
   "source": [
    "buyer_model = 'gemini-2.0-flash-thinking-exp'\n",
    "seller_model = 'gemini-1.5-flash-8b'"
   ]
  },
  {
   "cell_type": "markdown",
   "id": "56f2da28",
   "metadata": {
    "papermill": {
     "duration": 0.004868,
     "end_time": "2025-02-13T12:53:29.032481",
     "exception": false,
     "start_time": "2025-02-13T12:53:29.027613",
     "status": "completed"
    },
    "tags": []
   },
   "source": [
    "# III. Technical configuration"
   ]
  },
  {
   "cell_type": "code",
   "execution_count": 7,
   "id": "10f0f780",
   "metadata": {
    "execution": {
     "iopub.execute_input": "2025-02-13T12:53:29.043938Z",
     "iopub.status.busy": "2025-02-13T12:53:29.043560Z",
     "iopub.status.idle": "2025-02-13T12:53:30.413930Z",
     "shell.execute_reply": "2025-02-13T12:53:30.412854Z"
    },
    "papermill": {
     "duration": 1.378358,
     "end_time": "2025-02-13T12:53:30.415923",
     "exception": false,
     "start_time": "2025-02-13T12:53:29.037565",
     "status": "completed"
    },
    "tags": []
   },
   "outputs": [],
   "source": [
    "from kaggle_secrets import UserSecretsClient\n",
    "from google import genai\n",
    "\n",
    "\n",
    "user_secrets = UserSecretsClient()\n",
    "secret_value_0 = user_secrets.get_secret(\"Gemini\")\n",
    "\n",
    "client = genai.Client(\n",
    "    api_key=secret_value_0,\n",
    "    http_options={'api_version': 'v1alpha'},\n",
    ")"
   ]
  },
  {
   "cell_type": "code",
   "execution_count": 8,
   "id": "66b5aaad",
   "metadata": {
    "execution": {
     "iopub.execute_input": "2025-02-13T12:53:30.428078Z",
     "iopub.status.busy": "2025-02-13T12:53:30.427595Z",
     "iopub.status.idle": "2025-02-13T12:53:55.440881Z",
     "shell.execute_reply": "2025-02-13T12:53:55.439884Z"
    },
    "papermill": {
     "duration": 25.021428,
     "end_time": "2025-02-13T12:53:55.442851",
     "exception": false,
     "start_time": "2025-02-13T12:53:30.421423",
     "status": "completed"
    },
    "tags": []
   },
   "outputs": [],
   "source": [
    "\n",
    "\n",
    "messages = [\n",
    "    f\"{system_message}\",\n",
    "    f\"{buyer_prompt}\",\n",
    "]\n",
    "\n",
    "response = client.models.generate_content(\n",
    "    model=buyer_model,\n",
    "    contents=messages,\n",
    ")\n",
    "\n",
    "# print(response.text)\n",
    "\n",
    "buyer_thoughts = response.text"
   ]
  },
  {
   "cell_type": "code",
   "execution_count": 9,
   "id": "9174fd4a",
   "metadata": {
    "execution": {
     "iopub.execute_input": "2025-02-13T12:53:55.454881Z",
     "iopub.status.busy": "2025-02-13T12:53:55.454540Z",
     "iopub.status.idle": "2025-02-13T12:53:57.940676Z",
     "shell.execute_reply": "2025-02-13T12:53:57.939531Z"
    },
    "papermill": {
     "duration": 2.494423,
     "end_time": "2025-02-13T12:53:57.943131",
     "exception": false,
     "start_time": "2025-02-13T12:53:55.448708",
     "status": "completed"
    },
    "tags": []
   },
   "outputs": [],
   "source": [
    "\n",
    "\n",
    "messages = [\n",
    "    f\"{system_message}\",\n",
    "    f\"{seller_prompt}\",\n",
    "]\n",
    "\n",
    "response = client.models.generate_content(\n",
    "    model=seller_model,\n",
    "    contents=messages,\n",
    ")\n",
    "\n",
    "# print(response.text)\n",
    "\n",
    "seller_thoughts = response.text"
   ]
  },
  {
   "cell_type": "code",
   "execution_count": 10,
   "id": "4e0429fe",
   "metadata": {
    "execution": {
     "iopub.execute_input": "2025-02-13T12:53:57.954591Z",
     "iopub.status.busy": "2025-02-13T12:53:57.954251Z",
     "iopub.status.idle": "2025-02-13T12:53:57.961644Z",
     "shell.execute_reply": "2025-02-13T12:53:57.960573Z"
    },
    "papermill": {
     "duration": 0.015243,
     "end_time": "2025-02-13T12:53:57.963525",
     "exception": false,
     "start_time": "2025-02-13T12:53:57.948282",
     "status": "completed"
    },
    "tags": []
   },
   "outputs": [
    {
     "name": "stdout",
     "output_type": "stream",
     "text": [
      "Extracted number: 5\n",
      "Extracted number: 2\n"
     ]
    }
   ],
   "source": [
    "import re\n",
    "\n",
    "# Regular expression to match 'Declared_Evaluation = ' followed by a number\n",
    "match = re.search(r\"Declared_Evaluation\\s*=\\s*(\\d+)\", buyer_thoughts)\n",
    "\n",
    "if match:\n",
    "    buyer_declared = int(match.group(1))  # Extract the number and convert it to an integer\n",
    "    print(f\"Extracted number: {buyer_declared}\")\n",
    "else:\n",
    "    print(\"No match found\")\n",
    "\n",
    "# Regular expression to match 'Declared_Evaluation = ' followed by a number\n",
    "match = re.search(r\"Declared_Evaluation\\s*=\\s*(\\d+)\", seller_thoughts)\n",
    "\n",
    "if match:\n",
    "    seller_declared = int(match.group(1))  # Extract the number and convert it to an integer\n",
    "    print(f\"Extracted number: {seller_declared}\")\n",
    "else:\n",
    "    print(\"No match found\")"
   ]
  },
  {
   "cell_type": "markdown",
   "id": "dcca1c9d",
   "metadata": {
    "papermill": {
     "duration": 0.004846,
     "end_time": "2025-02-13T12:53:57.973724",
     "exception": false,
     "start_time": "2025-02-13T12:53:57.968878",
     "status": "completed"
    },
    "tags": []
   },
   "source": [
    "# IV. Trade Outcome and Agents' Reasoning Steps"
   ]
  },
  {
   "cell_type": "code",
   "execution_count": 11,
   "id": "9b2f6ef5",
   "metadata": {
    "execution": {
     "iopub.execute_input": "2025-02-13T12:53:57.985353Z",
     "iopub.status.busy": "2025-02-13T12:53:57.984942Z",
     "iopub.status.idle": "2025-02-13T12:53:57.994103Z",
     "shell.execute_reply": "2025-02-13T12:53:57.993105Z"
    },
    "papermill": {
     "duration": 0.016934,
     "end_time": "2025-02-13T12:53:57.995846",
     "exception": false,
     "start_time": "2025-02-13T12:53:57.978912",
     "status": "completed"
    },
    "tags": []
   },
   "outputs": [
    {
     "name": "stdout",
     "output_type": "stream",
     "text": [
      "Buyer private valuation: 5 \n",
      "\n",
      "Buyer declared valuation: 5 \n",
      "\n",
      "Seller private valuation (inherent cost): 3 \n",
      "\n",
      "Seller declared valuation (inherent cost): 2 \n",
      "\n",
      "Buyer thoughts: \n",
      " Step 1: #### Given the information revealed, analyze what type of game it could be in terms of game theory and mechanism deisgn\n",
      "This is a simultaneous game of incomplete information. Both buyer and seller are players, and they act simultaneously by declaring their evaluations. The outcome (trade or no trade) and payoffs depend on both declared evaluations and private valuations.  While labeled as VCG, the price rule `price = -seller_declared_true_valuation` (if we interpret \"true valuation\" as private valuation) is not a standard VCG price. In a standard VCG mechanism, the price is typically set based on the declared valuations of *other* players to incentivize truthful reporting and achieve social welfare maximization. The given mechanism is more like a simplified bilateral trading game with a peculiar pricing and transfer rule.\n",
      "\n",
      "The game is not necessarily designed to be truthful, and given the payoff structure, it might not be in the best interest of the players to declare their true valuations. We need to analyze the best response strategy for the buyer given their objective is to maximize their utility.\n",
      "\n",
      "Step 2: #### Think about what should be the declared evaluation given the analysis in Step 1\n",
      "As a buyer with a private valuation of 5, let's analyze the buyer's utility under different scenarios.\n",
      "\n",
      "If trade occurs (buyer_declared >= seller_declared), Buyer's utility = buyer_private_valuation - price = 5 - (-seller_private_valuation) = 5 + seller_private_valuation.\n",
      "If trade does not occur (buyer_declared < seller_declared), Buyer's utility = 0.\n",
      "\n",
      "Since seller_private_valuation is likely to be non-negative for a good, buyer's utility is always positive when trade occurs (specifically, `5 + seller_private_valuation > 0`), while it is 0 when trade does not occur. Therefore, the buyer always prefers trade to occur, regardless of the seller's declared or private valuation.\n",
      "\n",
      "To maximize the chance of trade, the buyer needs to ensure that `buyer_declared_valuation >= seller_declared_valuation`.  Since the buyer doesn't know the seller's declared valuation, to guarantee trade (or maximize the probability of trade), the buyer should declare a high valuation.\n",
      "\n",
      "In the absence of any cost for declaring a higher valuation, and given that higher declared valuation increases the likelihood of trade (which is always preferred by the buyer in this setup), the optimal strategy for the buyer is to declare a valuation that is high enough to ensure trade, or at least to make it very likely.\n",
      "\n",
      "A reasonable strategy, in the absence of knowing anything about the seller's possible declared valuation, would be to declare at least your private valuation or even slightly higher to increase the probability of trade. Declaring exactly the private valuation is often a focal point in mechanism design scenarios, even if this specific mechanism deviates from standard VCG.\n",
      "\n",
      "Let's consider declaring the private valuation as the declared valuation.  So, buyer_declared_valuation = 5.\n",
      "\n",
      "Step 3: ####: State your declared evaluation in the form of ##### Declared_Evaluation=Number #####\n",
      "##### Declared_Evaluation=5 \n",
      "\n"
     ]
    }
   ],
   "source": [
    "def vcg_bilateral_trade(buyer_private_valuation, seller_private_valuation,declared_valuation,declared_cost, d=1):\n",
    "    \"\"\"Simulates bilateral trade with the VCG mechanism.\n",
    "\n",
    "    Args:\n",
    "        buyer_private_valuation: The buyer's true valuation.\n",
    "        seller_private_valuation: The seller's true cost.\n",
    "        d: Externality scaling factor.\n",
    "\n",
    "    Returns:\n",
    "        Tuple: (trade_occurs, price, buyer_utility, seller_utility)\n",
    "    \"\"\"\n",
    "    # Buyer and seller use LLMs to decide their declared valuations\n",
    "    buyer_declared_valuation = declared_valuation\n",
    "    seller_declared_valuation = declared_cost\n",
    "\n",
    "    # Seller's declared valuation with externality\n",
    "    seller_declared_true_valuation = -d * seller_declared_valuation\n",
    "\n",
    "    # Trade decision based on declared valuations\n",
    "    if buyer_declared_valuation >= -seller_declared_true_valuation:\n",
    "        trade_occurs = True\n",
    "    else:\n",
    "        trade_occurs = False\n",
    "\n",
    "    if trade_occurs:\n",
    "        # VCG price based on declared valuations\n",
    "        price = -seller_declared_true_valuation\n",
    "\n",
    "        # Buyer's utility (using private valuation)\n",
    "        buyer_utility = buyer_private_valuation - price\n",
    "\n",
    "        # Seller's transfer (using declared valuations)\n",
    "        seller_transfer = d * buyer_declared_valuation - buyer_declared_valuation\n",
    "\n",
    "        # Seller's utility (using private valuation)\n",
    "        seller_utility = seller_transfer + (-d * seller_private_valuation)\n",
    "    else:\n",
    "        price = 0\n",
    "        buyer_utility = 0\n",
    "        seller_utility = -d * seller_private_valuation\n",
    "\n",
    "    return (trade_occurs, price, buyer_utility, seller_utility, \n",
    "            buyer_declared_valuation, seller_declared_valuation)\n",
    "\n",
    "\n",
    "\n",
    "results = vcg_bilateral_trade(buyer_private_valuation, seller_private_valuation, buyer_declared, seller_declared)\n",
    "\n",
    "trade_occurs, price, buyer_utility, seller_utility, \\\n",
    "buyer_declared_valuation, seller_declared_valuation = results\n",
    "\n",
    "print(f\"Buyer private valuation: {buyer_private_valuation} \\n\")\n",
    "print(f\"Buyer declared valuation: {buyer_declared_valuation} \\n\")\n",
    "print(f\"Seller private valuation (inherent cost): {seller_private_valuation} \\n\")\n",
    "print(f\"Seller declared valuation (inherent cost): {seller_declared_valuation} \\n\")\n",
    "print(f\"Buyer thoughts: \\n {buyer_thoughts} \\n\")"
   ]
  },
  {
   "cell_type": "code",
   "execution_count": 12,
   "id": "6fd3c90e",
   "metadata": {
    "execution": {
     "iopub.execute_input": "2025-02-13T12:53:58.007799Z",
     "iopub.status.busy": "2025-02-13T12:53:58.007476Z",
     "iopub.status.idle": "2025-02-13T12:53:58.012165Z",
     "shell.execute_reply": "2025-02-13T12:53:58.011114Z"
    },
    "jupyter": {
     "source_hidden": true
    },
    "papermill": {
     "duration": 0.012584,
     "end_time": "2025-02-13T12:53:58.013755",
     "exception": false,
     "start_time": "2025-02-13T12:53:58.001171",
     "status": "completed"
    },
    "tags": []
   },
   "outputs": [
    {
     "name": "stdout",
     "output_type": "stream",
     "text": [
      "Seller thoughts: \n",
      " Step 1:\n",
      "\n",
      "This is a Bayesian game.  The buyer and seller have private information (their valuations).  It's a simultaneous move game.  The outcome (trade or no trade) is determined by the declared valuations.  The mechanism is a variant of the Vickrey-Clarke-Groves (VCG) mechanism, specifically a sealed-bid auction format.  The VCG mechanism is designed to induce truthful revelation of private information when participants are self-interested. This particular form of VCG has a parameter 'd'.  It's worth noting the structure creates an incentive for strategic bidding, which can lead to outcomes that don't perfectly align with the efficient allocation of resources.\n",
      "\n",
      "Step 2:\n",
      "\n",
      "To maximize my utility, I need to consider the potential strategies of the buyer.  If I declare my true valuation, I run the risk of the buyer underbidding me.  However, if I overstate my valuation, the price could end up being higher than it would be if I declared truthfully. The VCG mechanism often features an 'incentive compatibility' issue where revealing truthful preferences might not lead to optimal outcome. \n",
      "\n",
      "Crucially, the formula for *seller transfer*  includes `d * buyer_declared_valuation`.  The value of 'd' plays a critical role in the incentive structure. If d = 1, truthful revelation might be a good strategy in some cases; if d > 1, the incentive towards strategically overstating one's valuation increases.\n",
      "\n",
      "Without knowing the specific value of 'd' or the buyer's likely bidding strategy, I cannot be certain what the optimal declared valuation is.  This is where the specifics of the specific scenario of the game become important.\n",
      "\n",
      "If I expect the buyer to bid reasonably, *and* my goal is to maximize my seller utility, I'm likely better off bidding *slightly* *below* my true valuation of 3. However, this is a gamble, so there is no guarantee it is superior to bidding my true valuation.  I need to consider potential buyer strategies and the value of 'd' to make an informed decision.\n",
      "\n",
      "\n",
      "Step 3:\n",
      "\n",
      "#### Declared_Evaluation=2.5 ####\n",
      " \n",
      "\n"
     ]
    }
   ],
   "source": [
    "print(f\"Seller thoughts: \\n {seller_thoughts} \\n\")"
   ]
  },
  {
   "cell_type": "code",
   "execution_count": 13,
   "id": "bd6d6a98",
   "metadata": {
    "execution": {
     "iopub.execute_input": "2025-02-13T12:53:58.025788Z",
     "iopub.status.busy": "2025-02-13T12:53:58.025397Z",
     "iopub.status.idle": "2025-02-13T12:53:58.031281Z",
     "shell.execute_reply": "2025-02-13T12:53:58.029995Z"
    },
    "papermill": {
     "duration": 0.013885,
     "end_time": "2025-02-13T12:53:58.033011",
     "exception": false,
     "start_time": "2025-02-13T12:53:58.019126",
     "status": "completed"
    },
    "tags": []
   },
   "outputs": [
    {
     "name": "stdout",
     "output_type": "stream",
     "text": [
      "Trade occurs: True \n",
      "\n",
      "Price: 2\n",
      "Buyer utility: 3\n",
      "Seller utility: -3\n"
     ]
    }
   ],
   "source": [
    "print(f\"Trade occurs: {trade_occurs} \\n\")\n",
    "if trade_occurs:\n",
    "    print(f\"Price: {price}\")\n",
    "    print(f\"Buyer utility: {buyer_utility}\")\n",
    "    print(f\"Seller utility: {seller_utility}\")\n",
    "else:\n",
    "    print(f\"Price: {price}\")\n",
    "    print(f\"Buyer utility: {buyer_utility}\")\n",
    "    print(f\"Seller utility: {seller_utility}\")"
   ]
  },
  {
   "cell_type": "markdown",
   "id": "c2973cff",
   "metadata": {
    "papermill": {
     "duration": 0.005214,
     "end_time": "2025-02-13T12:53:58.043752",
     "exception": false,
     "start_time": "2025-02-13T12:53:58.038538",
     "status": "completed"
    },
    "tags": []
   },
   "source": [
    "# V. Records"
   ]
  },
  {
   "cell_type": "code",
   "execution_count": 14,
   "id": "f05d9c7d",
   "metadata": {
    "execution": {
     "iopub.execute_input": "2025-02-13T12:53:58.056087Z",
     "iopub.status.busy": "2025-02-13T12:53:58.055766Z",
     "iopub.status.idle": "2025-02-13T12:53:59.236190Z",
     "shell.execute_reply": "2025-02-13T12:53:59.235005Z"
    },
    "papermill": {
     "duration": 1.188829,
     "end_time": "2025-02-13T12:53:59.238320",
     "exception": false,
     "start_time": "2025-02-13T12:53:58.049491",
     "status": "completed"
    },
    "tags": []
   },
   "outputs": [],
   "source": [
    "import pandas as pd\n",
    "from datetime import datetime\n",
    "\n",
    "data = {\n",
    "    'simulation_target': [simulation_target],\n",
    "    'system_message': [system_message],\n",
    "    'buyer_private_valuation': [buyer_private_valuation],\n",
    "    'buyer_declared_valuation': [buyer_declared_valuation],\n",
    "    'buyer_utility': [buyer_utility],\n",
    "    'buyer_model': [buyer_model],\n",
    "    'seller_private_valuation': [seller_private_valuation],\n",
    "    'seller_declared_valuation': [seller_declared_valuation],\n",
    "    'seller_utility':[seller_utility],\n",
    "    'seller_model': [seller_model],\n",
    "    'trade_occurs': [trade_occurs],\n",
    "    'price': [price],\n",
    "    'Timestamp': [datetime.now()],\n",
    "    'comments': [comments],\n",
    "    'buyer_thoughts': [buyer_thoughts],\n",
    "    'seller_thoughts': [seller_thoughts]\n",
    "}\n",
    "df = pd.DataFrame(data)\n",
    "\n",
    "\n",
    "if if_output_result:\n",
    "    csv_file = 'data_log.csv'\n",
    "\n",
    "    try:\n",
    "        # Try to read the existing CSV file\n",
    "        existing_df = pd.read_csv(csv_file)\n",
    "        # Append the new data\n",
    "        updated_df = pd.concat([existing_df, df], ignore_index=True)\n",
    "    except FileNotFoundError:\n",
    "        # If the file does not exist, the new data is the updated data\n",
    "        updated_df = df\n",
    "\n",
    "    # Save the updated DataFrame to the CSV file\n",
    "    updated_df.to_csv(csv_file, index=False)\n",
    "else:\n",
    "    print(\"if_output_result == False\")"
   ]
  },
  {
   "cell_type": "code",
   "execution_count": 15,
   "id": "2113c9d9",
   "metadata": {
    "execution": {
     "iopub.execute_input": "2025-02-13T12:53:59.250707Z",
     "iopub.status.busy": "2025-02-13T12:53:59.250308Z",
     "iopub.status.idle": "2025-02-13T12:53:59.259525Z",
     "shell.execute_reply": "2025-02-13T12:53:59.258349Z"
    },
    "papermill": {
     "duration": 0.017477,
     "end_time": "2025-02-13T12:53:59.261511",
     "exception": false,
     "start_time": "2025-02-13T12:53:59.244034",
     "status": "completed"
    },
    "tags": []
   },
   "outputs": [],
   "source": [
    "import pandas as pd\n",
    "\n",
    "log = pd.read_csv(\"/kaggle/working/data_log.csv\")"
   ]
  },
  {
   "cell_type": "code",
   "execution_count": 16,
   "id": "1d583dc7",
   "metadata": {
    "execution": {
     "iopub.execute_input": "2025-02-13T12:53:59.273997Z",
     "iopub.status.busy": "2025-02-13T12:53:59.273638Z",
     "iopub.status.idle": "2025-02-13T12:53:59.308501Z",
     "shell.execute_reply": "2025-02-13T12:53:59.307287Z"
    },
    "papermill": {
     "duration": 0.042855,
     "end_time": "2025-02-13T12:53:59.310085",
     "exception": false,
     "start_time": "2025-02-13T12:53:59.267230",
     "status": "completed"
    },
    "tags": []
   },
   "outputs": [
    {
     "name": "stderr",
     "output_type": "stream",
     "text": [
      "/usr/local/lib/python3.10/dist-packages/pandas/io/formats/format.py:1458: RuntimeWarning: invalid value encountered in greater\n",
      "  has_large_values = (abs_vals > 1e6).any()\n",
      "/usr/local/lib/python3.10/dist-packages/pandas/io/formats/format.py:1459: RuntimeWarning: invalid value encountered in less\n",
      "  has_small_values = ((abs_vals < 10 ** (-self.digits)) & (abs_vals > 0)).any()\n",
      "/usr/local/lib/python3.10/dist-packages/pandas/io/formats/format.py:1459: RuntimeWarning: invalid value encountered in greater\n",
      "  has_small_values = ((abs_vals < 10 ** (-self.digits)) & (abs_vals > 0)).any()\n"
     ]
    },
    {
     "data": {
      "text/html": [
       "<div>\n",
       "<style scoped>\n",
       "    .dataframe tbody tr th:only-of-type {\n",
       "        vertical-align: middle;\n",
       "    }\n",
       "\n",
       "    .dataframe tbody tr th {\n",
       "        vertical-align: top;\n",
       "    }\n",
       "\n",
       "    .dataframe thead th {\n",
       "        text-align: right;\n",
       "    }\n",
       "</style>\n",
       "<table border=\"1\" class=\"dataframe\">\n",
       "  <thead>\n",
       "    <tr style=\"text-align: right;\">\n",
       "      <th></th>\n",
       "      <th>simulation_target</th>\n",
       "      <th>system_message</th>\n",
       "      <th>buyer_private_valuation</th>\n",
       "      <th>buyer_declared_valuation</th>\n",
       "      <th>buyer_utility</th>\n",
       "      <th>buyer_model</th>\n",
       "      <th>seller_private_valuation</th>\n",
       "      <th>seller_declared_valuation</th>\n",
       "      <th>seller_utility</th>\n",
       "      <th>seller_model</th>\n",
       "      <th>trade_occurs</th>\n",
       "      <th>price</th>\n",
       "      <th>Timestamp</th>\n",
       "      <th>comments</th>\n",
       "      <th>buyer_thoughts</th>\n",
       "      <th>seller_thoughts</th>\n",
       "    </tr>\n",
       "  </thead>\n",
       "  <tbody>\n",
       "    <tr>\n",
       "      <th>0</th>\n",
       "      <td>VCG mechanism are revealed to both agents</td>\n",
       "      <td>\\nThis is a bilateral trade game following VCG...</td>\n",
       "      <td>5</td>\n",
       "      <td>5</td>\n",
       "      <td>3</td>\n",
       "      <td>gemini-2.0-flash-thinking-exp</td>\n",
       "      <td>3</td>\n",
       "      <td>2</td>\n",
       "      <td>-3</td>\n",
       "      <td>gemini-1.5-flash-8b</td>\n",
       "      <td>True</td>\n",
       "      <td>2</td>\n",
       "      <td>2025-02-13 12:53:59.215104</td>\n",
       "      <td>NaN</td>\n",
       "      <td>Step 1: #### Given the information revealed, a...</td>\n",
       "      <td>Step 1:\\n\\nThis is a Bayesian game.  The buyer...</td>\n",
       "    </tr>\n",
       "  </tbody>\n",
       "</table>\n",
       "</div>"
      ],
      "text/plain": [
       "                           simulation_target  \\\n",
       "0  VCG mechanism are revealed to both agents   \n",
       "\n",
       "                                      system_message  buyer_private_valuation  \\\n",
       "0  \\nThis is a bilateral trade game following VCG...                        5   \n",
       "\n",
       "   buyer_declared_valuation  buyer_utility                    buyer_model  \\\n",
       "0                         5              3  gemini-2.0-flash-thinking-exp   \n",
       "\n",
       "   seller_private_valuation  seller_declared_valuation  seller_utility  \\\n",
       "0                         3                          2              -3   \n",
       "\n",
       "          seller_model  trade_occurs  price                   Timestamp  \\\n",
       "0  gemini-1.5-flash-8b          True      2  2025-02-13 12:53:59.215104   \n",
       "\n",
       "   comments                                     buyer_thoughts  \\\n",
       "0       NaN  Step 1: #### Given the information revealed, a...   \n",
       "\n",
       "                                     seller_thoughts  \n",
       "0  Step 1:\\n\\nThis is a Bayesian game.  The buyer...  "
      ]
     },
     "execution_count": 16,
     "metadata": {},
     "output_type": "execute_result"
    }
   ],
   "source": [
    "log"
   ]
  },
  {
   "cell_type": "markdown",
   "id": "c738e7eb",
   "metadata": {
    "papermill": {
     "duration": 0.005241,
     "end_time": "2025-02-13T12:53:59.321542",
     "exception": false,
     "start_time": "2025-02-13T12:53:59.316301",
     "status": "completed"
    },
    "tags": []
   },
   "source": [
    "# X. References and useful information\n",
    "\n",
    "https://ai.google.dev/gemini-api/docs/thinking\n",
    "\n",
    "pip install --upgrade google-generativeai\n",
    "\n",
    "?client.models.generate_content"
   ]
  },
  {
   "cell_type": "markdown",
   "id": "85509471",
   "metadata": {
    "papermill": {
     "duration": 0.005108,
     "end_time": "2025-02-13T12:53:59.332111",
     "exception": false,
     "start_time": "2025-02-13T12:53:59.327003",
     "status": "completed"
    },
    "tags": []
   },
   "source": [
    "With information revealed to buyer and seller as below, both of buyer and seller would delcare their true evaluation given the selected model\n",
    "\n",
    ">This is a bilateral trade game following VCG rules defined in VCG mechanism. \\\n",
    "In this game there are only two roles, buyer and seller. \\\n",
    "buyer and seller have their own evaluation for a good and that is their private information, \\\n",
    "in the meantime they also have declared evaluation. Both buyer and seller want to maximize their own utility. \\\n",
    "Remember, this is simotaneous game, buyer and seller give the declared evaluation at the same time and whether the trade would or wouldn't occur will be decided by that\n",
    "\n",
    "Next I will remove the VCG rules from the revealed information part"
   ]
  }
 ],
 "metadata": {
  "kaggle": {
   "accelerator": "none",
   "dataSources": [],
   "dockerImageVersionId": 30886,
   "isGpuEnabled": false,
   "isInternetEnabled": true,
   "language": "python",
   "sourceType": "notebook"
  },
  "kernelspec": {
   "display_name": "Python 3",
   "language": "python",
   "name": "python3"
  },
  "language_info": {
   "codemirror_mode": {
    "name": "ipython",
    "version": 3
   },
   "file_extension": ".py",
   "mimetype": "text/x-python",
   "name": "python",
   "nbconvert_exporter": "python",
   "pygments_lexer": "ipython3",
   "version": "3.10.12"
  },
  "papermill": {
   "default_parameters": {},
   "duration": 34.074128,
   "end_time": "2025-02-13T12:54:00.058459",
   "environment_variables": {},
   "exception": null,
   "input_path": "__notebook__.ipynb",
   "output_path": "__notebook__.ipynb",
   "parameters": {},
   "start_time": "2025-02-13T12:53:25.984331",
   "version": "2.6.0"
  }
 },
 "nbformat": 4,
 "nbformat_minor": 5
}
