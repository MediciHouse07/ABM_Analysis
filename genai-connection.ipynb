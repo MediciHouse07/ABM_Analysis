{
 "cells": [
  {
   "cell_type": "markdown",
   "id": "4a3dc285",
   "metadata": {
    "papermill": {
     "duration": 0.004346,
     "end_time": "2025-02-12T09:39:25.437569",
     "exception": false,
     "start_time": "2025-02-12T09:39:25.433223",
     "status": "completed"
    },
    "tags": []
   },
   "source": [
    "# I. Preface\n",
    "\n",
    "As a practitioner and enthusiast in simulation, I have always been fascinated by modeling business, economics, politics, and more through programs. In this notebook, I will explore the potential outcomes of integrating Mechanism Design theories with Generative AI by selectively revealing information to agents and observing their reactions.\n",
    "\n",
    "Through repeated experiments, this approach achieves three key goals:\n",
    "\n",
    "- Gaining a fresh perspective on GenAI models.\n",
    "- Understanding how AI agents respond to economic theory-driven rules.\n",
    "- Most importantly—finding enjoyment in the process (and by 'you,' I really mean 'I').\n",
    "\n",
    "This is the first step in my exploration, and I’m making it public to invite discussion. If you share a similar interest, feel free to comment and exchange ideas.\n",
    "In this notebook, we will simulate a bilateral trade with two roles: buyer and seller. Each participant has a private valuation of the good. They must decide on their declared valuation. If the buyer's declared valuation is greater than the seller's, a trade occurs; otherwise, no deal is made.\n",
    "The game follows the VCG (Vickrey-Clarke-Groves) mechanism, which determines the corresponding calculations, such as the transfer payments for the buyer and seller.\n",
    "\n",
    ">Mechanism design (sometimes implementation theory or institution design)[1] is a branch of economics and game theory. It studies how to construct rules—called mechanisms or institutions—that produce good outcomes according to some predefined metric, even when the designer does not know the players' true preferences or what information they have. Mechanism design thus focuses on the study of solution concepts for a class of private-information games. \n",
    "\n",
    ">For more information about Mechanism Design: https://en.wikipedia.org/wiki/Mechanism_design\n",
    "\n",
    ">For more information about VCG mechanism: https://en.wikipedia.org/wiki/Vickrey%E2%80%93Clarke%E2%80%93Groves_mechanism"
   ]
  },
  {
   "cell_type": "markdown",
   "id": "7ac40fb4",
   "metadata": {
    "papermill": {
     "duration": 0.003343,
     "end_time": "2025-02-12T09:39:25.444882",
     "exception": false,
     "start_time": "2025-02-12T09:39:25.441539",
     "status": "completed"
    },
    "tags": []
   },
   "source": [
    "# II. Config rules and information to be revealed to agents"
   ]
  },
  {
   "cell_type": "code",
   "execution_count": 1,
   "id": "7111ec32",
   "metadata": {
    "execution": {
     "iopub.execute_input": "2025-02-12T09:39:25.453337Z",
     "iopub.status.busy": "2025-02-12T09:39:25.452981Z",
     "iopub.status.idle": "2025-02-12T09:39:25.459117Z",
     "shell.execute_reply": "2025-02-12T09:39:25.458224Z"
    },
    "papermill": {
     "duration": 0.012199,
     "end_time": "2025-02-12T09:39:25.460573",
     "exception": false,
     "start_time": "2025-02-12T09:39:25.448374",
     "status": "completed"
    },
    "tags": []
   },
   "outputs": [],
   "source": [
    "delimiter = \"####\"\n",
    "system_message = f\"\"\"\n",
    "This is a bilateral trade game following VCG rules defined in VCG mechanism. \\\n",
    "In this game there are only two roles, buyer and seller. \\\n",
    "buyer and seller have their own evaluation for a good and that is their private information, \\\n",
    "in the meantime they also have declared evaluation. Both buyer and seller want to maximize their own utility. \\\n",
    "Remember, this is simotaneous game, buyer and seller give the declared evaluation at the same time and whether the trade would or wouldn't occur will be decided by that\n",
    "\n",
    "Step 1:{delimiter} Think about what should be the declared evaluation\n",
    "\n",
    "Step 2:{delimiter}: State your declared evaluation in the form of ##### Declared_Evaluation=Number #####\n",
    "\"\"\""
   ]
  },
  {
   "cell_type": "code",
   "execution_count": 2,
   "id": "aa1488dd",
   "metadata": {
    "execution": {
     "iopub.execute_input": "2025-02-12T09:39:25.469139Z",
     "iopub.status.busy": "2025-02-12T09:39:25.468835Z",
     "iopub.status.idle": "2025-02-12T09:39:25.472769Z",
     "shell.execute_reply": "2025-02-12T09:39:25.471806Z"
    },
    "papermill": {
     "duration": 0.009895,
     "end_time": "2025-02-12T09:39:25.474254",
     "exception": false,
     "start_time": "2025-02-12T09:39:25.464359",
     "status": "completed"
    },
    "tags": []
   },
   "outputs": [],
   "source": [
    "buyer_private_valuation = 5  # Buyer knows their own valuation\n",
    "seller_private_valuation = 3  # Seller knows their own cost"
   ]
  },
  {
   "cell_type": "code",
   "execution_count": 3,
   "id": "2454e588",
   "metadata": {
    "execution": {
     "iopub.execute_input": "2025-02-12T09:39:25.482763Z",
     "iopub.status.busy": "2025-02-12T09:39:25.482377Z",
     "iopub.status.idle": "2025-02-12T09:39:25.486623Z",
     "shell.execute_reply": "2025-02-12T09:39:25.485786Z"
    },
    "papermill": {
     "duration": 0.010189,
     "end_time": "2025-02-12T09:39:25.488179",
     "exception": false,
     "start_time": "2025-02-12T09:39:25.477990",
     "status": "completed"
    },
    "tags": []
   },
   "outputs": [],
   "source": [
    "buyer_prompt = f\"\"\"\n",
    "You are a buyer, your private evaluation for the good is {buyer_private_valuation}\"\"\".strip()\n",
    "seller_prompt = f\"\"\"\n",
    "You are a seller, your private evaluation for the good is {seller_private_valuation}\"\"\".strip()"
   ]
  },
  {
   "cell_type": "code",
   "execution_count": 4,
   "id": "62166aa7",
   "metadata": {
    "execution": {
     "iopub.execute_input": "2025-02-12T09:39:25.496391Z",
     "iopub.status.busy": "2025-02-12T09:39:25.496106Z",
     "iopub.status.idle": "2025-02-12T09:39:25.499876Z",
     "shell.execute_reply": "2025-02-12T09:39:25.498967Z"
    },
    "papermill": {
     "duration": 0.009472,
     "end_time": "2025-02-12T09:39:25.501313",
     "exception": false,
     "start_time": "2025-02-12T09:39:25.491841",
     "status": "completed"
    },
    "tags": []
   },
   "outputs": [],
   "source": [
    "buyer_model = 'gemini-2.0-flash-thinking-exp'\n",
    "seller_model = 'gemini-2.0-flash-thinking-exp'"
   ]
  },
  {
   "cell_type": "markdown",
   "id": "0da9f604",
   "metadata": {
    "papermill": {
     "duration": 0.003315,
     "end_time": "2025-02-12T09:39:25.508316",
     "exception": false,
     "start_time": "2025-02-12T09:39:25.505001",
     "status": "completed"
    },
    "tags": []
   },
   "source": [
    "# III. Technical configuration"
   ]
  },
  {
   "cell_type": "code",
   "execution_count": 5,
   "id": "b6c752b4",
   "metadata": {
    "execution": {
     "iopub.execute_input": "2025-02-12T09:39:25.516418Z",
     "iopub.status.busy": "2025-02-12T09:39:25.516116Z",
     "iopub.status.idle": "2025-02-12T09:39:26.786408Z",
     "shell.execute_reply": "2025-02-12T09:39:26.785478Z"
    },
    "papermill": {
     "duration": 1.276543,
     "end_time": "2025-02-12T09:39:26.788352",
     "exception": false,
     "start_time": "2025-02-12T09:39:25.511809",
     "status": "completed"
    },
    "tags": []
   },
   "outputs": [],
   "source": [
    "from kaggle_secrets import UserSecretsClient\n",
    "from google import genai\n",
    "\n",
    "\n",
    "user_secrets = UserSecretsClient()\n",
    "secret_value_0 = user_secrets.get_secret(\"Gemini\")\n",
    "\n",
    "client = genai.Client(\n",
    "    api_key=secret_value_0,\n",
    "    http_options={'api_version': 'v1alpha'},\n",
    ")"
   ]
  },
  {
   "cell_type": "code",
   "execution_count": 6,
   "id": "c9be8a16",
   "metadata": {
    "execution": {
     "iopub.execute_input": "2025-02-12T09:39:26.797566Z",
     "iopub.status.busy": "2025-02-12T09:39:26.797071Z",
     "iopub.status.idle": "2025-02-12T09:39:38.022796Z",
     "shell.execute_reply": "2025-02-12T09:39:38.021160Z"
    },
    "papermill": {
     "duration": 11.232814,
     "end_time": "2025-02-12T09:39:38.025169",
     "exception": false,
     "start_time": "2025-02-12T09:39:26.792355",
     "status": "completed"
    },
    "tags": []
   },
   "outputs": [],
   "source": [
    "\n",
    "\n",
    "messages = [\n",
    "    f\"{system_message}\",\n",
    "    f\"{buyer_prompt}\",\n",
    "]\n",
    "\n",
    "response = client.models.generate_content(\n",
    "    model=buyer_model,\n",
    "    contents=messages,\n",
    ")\n",
    "\n",
    "# print(response.text)\n",
    "\n",
    "buyer_thoughts = response.text"
   ]
  },
  {
   "cell_type": "code",
   "execution_count": 7,
   "id": "73451191",
   "metadata": {
    "execution": {
     "iopub.execute_input": "2025-02-12T09:39:38.035358Z",
     "iopub.status.busy": "2025-02-12T09:39:38.034929Z",
     "iopub.status.idle": "2025-02-12T09:40:05.941386Z",
     "shell.execute_reply": "2025-02-12T09:40:05.940119Z"
    },
    "papermill": {
     "duration": 27.913868,
     "end_time": "2025-02-12T09:40:05.943477",
     "exception": false,
     "start_time": "2025-02-12T09:39:38.029609",
     "status": "completed"
    },
    "tags": []
   },
   "outputs": [],
   "source": [
    "\n",
    "\n",
    "messages = [\n",
    "    f\"{system_message}\",\n",
    "    f\"{seller_prompt}\",\n",
    "]\n",
    "\n",
    "response = client.models.generate_content(\n",
    "    model=seller_model,\n",
    "    contents=messages,\n",
    ")\n",
    "\n",
    "# print(response.text)\n",
    "\n",
    "seller_thoughts = response.text"
   ]
  },
  {
   "cell_type": "code",
   "execution_count": 8,
   "id": "fe2e8d7c",
   "metadata": {
    "execution": {
     "iopub.execute_input": "2025-02-12T09:40:05.954120Z",
     "iopub.status.busy": "2025-02-12T09:40:05.953753Z",
     "iopub.status.idle": "2025-02-12T09:40:05.961133Z",
     "shell.execute_reply": "2025-02-12T09:40:05.959529Z"
    },
    "papermill": {
     "duration": 0.014376,
     "end_time": "2025-02-12T09:40:05.963006",
     "exception": false,
     "start_time": "2025-02-12T09:40:05.948630",
     "status": "completed"
    },
    "tags": []
   },
   "outputs": [
    {
     "name": "stdout",
     "output_type": "stream",
     "text": [
      "Extracted number: 5\n",
      "Extracted number: 3\n"
     ]
    }
   ],
   "source": [
    "import re\n",
    "\n",
    "# Regular expression to match 'Declared_Evaluation = ' followed by a number\n",
    "match = re.search(r\"Declared_Evaluation\\s*=\\s*(\\d+)\", buyer_thoughts)\n",
    "\n",
    "if match:\n",
    "    buyer_declared = int(match.group(1))  # Extract the number and convert it to an integer\n",
    "    print(f\"Extracted number: {buyer_declared}\")\n",
    "else:\n",
    "    print(\"No match found\")\n",
    "\n",
    "# Regular expression to match 'Declared_Evaluation = ' followed by a number\n",
    "match = re.search(r\"Declared_Evaluation\\s*=\\s*(\\d+)\", seller_thoughts)\n",
    "\n",
    "if match:\n",
    "    seller_declared = int(match.group(1))  # Extract the number and convert it to an integer\n",
    "    print(f\"Extracted number: {seller_declared}\")\n",
    "else:\n",
    "    print(\"No match found\")"
   ]
  },
  {
   "cell_type": "markdown",
   "id": "444cd777",
   "metadata": {
    "papermill": {
     "duration": 0.004177,
     "end_time": "2025-02-12T09:40:05.971817",
     "exception": false,
     "start_time": "2025-02-12T09:40:05.967640",
     "status": "completed"
    },
    "tags": []
   },
   "source": [
    "# IV. Trade Outcome and Agents' Reasoning Steps"
   ]
  },
  {
   "cell_type": "code",
   "execution_count": 9,
   "id": "c8d7487b",
   "metadata": {
    "execution": {
     "iopub.execute_input": "2025-02-12T09:40:05.981336Z",
     "iopub.status.busy": "2025-02-12T09:40:05.980960Z",
     "iopub.status.idle": "2025-02-12T09:40:05.990447Z",
     "shell.execute_reply": "2025-02-12T09:40:05.989117Z"
    },
    "jupyter": {
     "source_hidden": true
    },
    "papermill": {
     "duration": 0.016178,
     "end_time": "2025-02-12T09:40:05.992049",
     "exception": false,
     "start_time": "2025-02-12T09:40:05.975871",
     "status": "completed"
    },
    "tags": []
   },
   "outputs": [
    {
     "name": "stdout",
     "output_type": "stream",
     "text": [
      "Buyer private valuation: 5 \n",
      "\n",
      "Buyer declared valuation: 5 \n",
      "\n",
      "Seller private valuation (inherent cost): 3 \n",
      "\n",
      "Seller declared valuation (inherent cost): 3 \n",
      "\n",
      "Buyer thoughts: \n",
      " #### Think about what should be the declared evaluation\n",
      "In a VCG mechanism for bilateral trade, the buyer's goal is to maximize their utility. The trade occurs if the buyer's declared valuation (d_b) is greater than or equal to the seller's declared valuation (d_s). If the trade occurs, the buyer pays the seller's declared valuation (d_s). The buyer's utility is their private valuation (v_b) minus the payment (d_s) if trade occurs, and 0 if trade does not occur.  In this case, my private valuation v_b = 5.\n",
      "\n",
      "Let's consider the scenarios for different declared evaluations.\n",
      "\n",
      "If I declare d_b = 5 (truthfully):\n",
      "- If the seller declares d_s <= 5, trade happens, and my utility is 5 - d_s. To maximize my utility, I want d_s to be as small as possible while still ensuring trade happens. However, I cannot control d_s.\n",
      "- If the seller declares d_s > 5, trade does not happen, and my utility is 0.\n",
      "\n",
      "If I declare d_b > 5 (over-declare), say d_b = 6:\n",
      "- If the seller declares d_s <= 5, trade happens, and my utility is 5 - d_s. This is the same utility as with truthful declaration in this case.\n",
      "- If the seller declares 5 < d_s <= 6, trade happens, and my utility is 5 - d_s. In this case, if I had declared truthfully (d_b=5), and if 5 < d_s <= 6, trade would not happen, and my utility would be 0. By over-declaring, I enabled a trade, but my utility (5 - d_s) might be lower or even negative if d_s > 5. However, if seller's d_s is just slightly above 5, say 5.1, my utility 5 - 5.1 = -0.1, still not great compared to 0.\n",
      "- If the seller declares d_s > 6, trade does not happen, and my utility is 0. Same as truthful declaration case.\n",
      "\n",
      "If I declare d_b < 5 (under-declare), say d_b = 4:\n",
      "- If the seller declares d_s <= 4, trade happens, and my utility is 5 - d_s. This is the same utility as with truthful declaration in this case.\n",
      "- If the seller declares 4 < d_s <= 5, trade does not happen, and my utility is 0. However, if I had declared truthfully (d_b=5), and if 4 < d_s <= 5, trade would happen, and my utility would be 5 - d_s > 0. By under-declaring, I missed a potential beneficial trade.\n",
      "- If the seller declares d_s > 5, trade does not happen, and my utility is 0. Same as truthful declaration case.\n",
      "\n",
      "Comparing these cases, declaring truthfully (d_b = 5) seems to be the best strategy. Over-declaring can lead to trade at prices that are not beneficial (utility < 0), while under-declaring can cause missed opportunities for beneficial trades (utility > 0).  In VCG mechanisms, truthful declaration is generally a weakly dominant strategy.\n",
      "\n",
      "Therefore, as a buyer, my declared evaluation should be my true evaluation.\n",
      "\n",
      "####: State your declared evaluation in the form of ##### Declared_Evaluation=Number #####\n",
      "##### Declared_Evaluation=5 \n",
      "\n"
     ]
    }
   ],
   "source": [
    "def vcg_bilateral_trade(buyer_private_valuation, seller_private_valuation,declared_valuation,declared_cost, d=1):\n",
    "    \"\"\"Simulates bilateral trade with the VCG mechanism.\n",
    "\n",
    "    Args:\n",
    "        buyer_private_valuation: The buyer's true valuation.\n",
    "        seller_private_valuation: The seller's true cost.\n",
    "        d: Externality scaling factor.\n",
    "\n",
    "    Returns:\n",
    "        Tuple: (trade_occurs, price, buyer_utility, seller_utility)\n",
    "    \"\"\"\n",
    "    # Buyer and seller use LLMs to decide their declared valuations\n",
    "    buyer_declared_valuation = declared_valuation\n",
    "    seller_declared_valuation = declared_cost\n",
    "\n",
    "    # Seller's declared valuation with externality\n",
    "    seller_declared_true_valuation = -d * seller_declared_valuation\n",
    "\n",
    "    # Trade decision based on declared valuations\n",
    "    if buyer_declared_valuation >= -seller_declared_true_valuation:\n",
    "        trade_occurs = True\n",
    "    else:\n",
    "        trade_occurs = False\n",
    "\n",
    "    if trade_occurs:\n",
    "        # VCG price based on declared valuations\n",
    "        price = -seller_declared_true_valuation\n",
    "\n",
    "        # Buyer's utility (using private valuation)\n",
    "        buyer_utility = buyer_private_valuation - price\n",
    "\n",
    "        # Seller's transfer (using declared valuations)\n",
    "        seller_transfer = d * buyer_declared_valuation - buyer_declared_valuation\n",
    "\n",
    "        # Seller's utility (using private valuation)\n",
    "        seller_utility = seller_transfer + (-d * seller_private_valuation)\n",
    "    else:\n",
    "        price = 0\n",
    "        buyer_utility = 0\n",
    "        seller_utility = -d * seller_private_valuation\n",
    "\n",
    "    return (trade_occurs, price, buyer_utility, seller_utility, \n",
    "            buyer_declared_valuation, seller_declared_valuation)\n",
    "\n",
    "\n",
    "\n",
    "results = vcg_bilateral_trade(buyer_private_valuation, seller_private_valuation, buyer_declared, seller_declared)\n",
    "\n",
    "trade_occurs, price, buyer_utility, seller_utility, \\\n",
    "buyer_declared_valuation, seller_declared_valuation = results\n",
    "\n",
    "print(f\"Buyer private valuation: {buyer_private_valuation} \\n\")\n",
    "print(f\"Buyer declared valuation: {buyer_declared_valuation} \\n\")\n",
    "print(f\"Seller private valuation (inherent cost): {seller_private_valuation} \\n\")\n",
    "print(f\"Seller declared valuation (inherent cost): {seller_declared_valuation} \\n\")\n",
    "print(f\"Buyer thoughts: \\n {buyer_thoughts} \\n\")"
   ]
  },
  {
   "cell_type": "code",
   "execution_count": 10,
   "id": "3e738dcf",
   "metadata": {
    "execution": {
     "iopub.execute_input": "2025-02-12T09:40:06.001466Z",
     "iopub.status.busy": "2025-02-12T09:40:06.001146Z",
     "iopub.status.idle": "2025-02-12T09:40:06.006089Z",
     "shell.execute_reply": "2025-02-12T09:40:06.004928Z"
    },
    "jupyter": {
     "source_hidden": true
    },
    "papermill": {
     "duration": 0.011348,
     "end_time": "2025-02-12T09:40:06.007652",
     "exception": false,
     "start_time": "2025-02-12T09:40:05.996304",
     "status": "completed"
    },
    "tags": []
   },
   "outputs": [
    {
     "name": "stdout",
     "output_type": "stream",
     "text": [
      "Seller thoughts: \n",
      " Step 1:#### Think about what should be the declared evaluation\n",
      "In a VCG mechanism for bilateral trade, truthful revelation is a weakly dominant strategy. For a seller, if they declare their true private evaluation, their utility is 0 when a trade occurs (declared price - private evaluation = 0) and 0 when no trade occurs.\n",
      "\n",
      "Let's consider the cases for declaring a value different from the private evaluation:\n",
      "\n",
      "Case 1: Declare a value higher than the private evaluation (d_s > 3).\n",
      "If the buyer's declared evaluation (d_b) is greater than or equal to this higher declared value (d_b >= d_s > 3), trade occurs. The seller's utility will be d_s - 3 > 0 (positive utility).\n",
      "If the buyer's declared evaluation (d_b) is less than this higher declared value (d_b < d_s), no trade occurs. The seller's utility will be 0.\n",
      "By declaring a higher value, the seller risks no trade occurring if the buyer's valuation is not high enough, but gains positive utility if trade happens.\n",
      "\n",
      "Case 2: Declare a value lower than the private evaluation (d_s < 3).\n",
      "If the buyer's declared evaluation (d_b) is greater than or equal to this lower declared value (d_b >= d_s < 3), trade occurs. The seller's utility will be d_s - 3 < 0 (negative utility).\n",
      "If the buyer's declared evaluation (d_b) is less than this lower declared value (d_b < d_s), no trade occurs. The seller's utility will be 0.\n",
      "By declaring a lower value, the seller risks negative utility if trade occurs, and gets 0 utility if no trade happens. This is generally worse than or equal to declaring the true value which guarantees 0 utility.\n",
      "\n",
      "Comparing these cases, declaring the true private evaluation (3) guarantees a utility of 0 regardless of the buyer's declared evaluation. Declaring higher might give positive utility but risks no trade, and declaring lower might give negative utility if trade happens. In the absence of information about the buyer's valuation and assuming rational behavior, truthful declaration is a safe and reasonable strategy, and in VCG mechanisms, it is indeed a weakly dominant strategy.\n",
      "\n",
      "Step 2:####: State your declared evaluation in the form of ##### Declared_Evaluation=Number #####\n",
      "##### Declared_Evaluation=3 ##### \n",
      "\n"
     ]
    }
   ],
   "source": [
    "print(f\"Seller thoughts: \\n {seller_thoughts} \\n\")"
   ]
  },
  {
   "cell_type": "code",
   "execution_count": 11,
   "id": "99ecf757",
   "metadata": {
    "execution": {
     "iopub.execute_input": "2025-02-12T09:40:06.017358Z",
     "iopub.status.busy": "2025-02-12T09:40:06.017019Z",
     "iopub.status.idle": "2025-02-12T09:40:06.022468Z",
     "shell.execute_reply": "2025-02-12T09:40:06.021180Z"
    },
    "jupyter": {
     "source_hidden": true
    },
    "papermill": {
     "duration": 0.012156,
     "end_time": "2025-02-12T09:40:06.024231",
     "exception": false,
     "start_time": "2025-02-12T09:40:06.012075",
     "status": "completed"
    },
    "tags": []
   },
   "outputs": [
    {
     "name": "stdout",
     "output_type": "stream",
     "text": [
      "Trade occurs: True \n",
      "\n",
      "Price: 3\n",
      "Buyer utility: 2\n",
      "Seller utility: -3\n"
     ]
    }
   ],
   "source": [
    "print(f\"Trade occurs: {trade_occurs} \\n\")\n",
    "if trade_occurs:\n",
    "    print(f\"Price: {price}\")\n",
    "    print(f\"Buyer utility: {buyer_utility}\")\n",
    "    print(f\"Seller utility: {seller_utility}\")\n",
    "else:\n",
    "    print(f\"Price: {price}\")\n",
    "    print(f\"Buyer utility: {buyer_utility}\")\n",
    "    print(f\"Seller utility: {seller_utility}\")"
   ]
  },
  {
   "cell_type": "markdown",
   "id": "e473b17f",
   "metadata": {
    "papermill": {
     "duration": 0.003906,
     "end_time": "2025-02-12T09:40:06.032309",
     "exception": false,
     "start_time": "2025-02-12T09:40:06.028403",
     "status": "completed"
    },
    "tags": []
   },
   "source": [
    "# X. References and useful information\n",
    "\n",
    "https://ai.google.dev/gemini-api/docs/thinking\n",
    "\n",
    "pip install --upgrade google-generativeai\n",
    "\n",
    "?client.models.generate_content"
   ]
  }
 ],
 "metadata": {
  "kaggle": {
   "accelerator": "none",
   "dataSources": [],
   "dockerImageVersionId": 30886,
   "isGpuEnabled": false,
   "isInternetEnabled": true,
   "language": "python",
   "sourceType": "notebook"
  },
  "kernelspec": {
   "display_name": "Python 3",
   "language": "python",
   "name": "python3"
  },
  "language_info": {
   "codemirror_mode": {
    "name": "ipython",
    "version": 3
   },
   "file_extension": ".py",
   "mimetype": "text/x-python",
   "name": "python",
   "nbconvert_exporter": "python",
   "pygments_lexer": "ipython3",
   "version": "3.10.12"
  },
  "papermill": {
   "default_parameters": {},
   "duration": 44.091167,
   "end_time": "2025-02-12T09:40:06.658142",
   "environment_variables": {},
   "exception": null,
   "input_path": "__notebook__.ipynb",
   "output_path": "__notebook__.ipynb",
   "parameters": {},
   "start_time": "2025-02-12T09:39:22.566975",
   "version": "2.6.0"
  }
 },
 "nbformat": 4,
 "nbformat_minor": 5
}
